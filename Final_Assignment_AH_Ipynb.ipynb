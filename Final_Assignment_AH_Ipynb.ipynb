{
  "nbformat": 4,
  "nbformat_minor": 0,
  "metadata": {
    "colab": {
      "name": "Final Assignment_AH.Ipynb",
      "provenance": [],
      "authorship_tag": "ABX9TyOblRUr67JJ/n8eBTTiLntI",
      "include_colab_link": true
    },
    "kernelspec": {
      "name": "python3",
      "display_name": "Python 3"
    },
    "language_info": {
      "name": "python"
    }
  },
  "cells": [
    {
      "cell_type": "markdown",
      "metadata": {
        "id": "view-in-github",
        "colab_type": "text"
      },
      "source": [
        "<a href=\"https://colab.research.google.com/github/Alherrera2798/SBU-Graduate-Course-Projects/blob/main/Final_Assignment_AH_Ipynb.ipynb\" target=\"_parent\"><img src=\"https://colab.research.google.com/assets/colab-badge.svg\" alt=\"Open In Colab\"/></a>"
      ]
    },
    {
      "cell_type": "code",
      "metadata": {
        "colab": {
          "resources": {
            "http://localhost:8080/nbextensions/google.colab/files.js": {
              "data": "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",
              "ok": true,
              "headers": [
                [
                  "content-type",
                  "application/javascript"
                ]
              ],
              "status": 200,
              "status_text": ""
            }
          },
          "base_uri": "https://localhost:8080/",
          "height": 90
        },
        "id": "X4clNi_zV0jE",
        "outputId": "7420c0fb-05d7-4389-8c73-12f4ea154371"
      },
      "source": [
        "from google.colab import files\n",
        "uploaded = files.upload()"
      ],
      "execution_count": null,
      "outputs": [
        {
          "output_type": "display_data",
          "data": {
            "text/html": [
              "\n",
              "     <input type=\"file\" id=\"files-691d179a-930f-48db-85b2-425ff5e50923\" name=\"files[]\" multiple disabled\n",
              "        style=\"border:none\" />\n",
              "     <output id=\"result-691d179a-930f-48db-85b2-425ff5e50923\">\n",
              "      Upload widget is only available when the cell has been executed in the\n",
              "      current browser session. Please rerun this cell to enable.\n",
              "      </output>\n",
              "      <script src=\"/nbextensions/google.colab/files.js\"></script> "
            ],
            "text/plain": [
              "<IPython.core.display.HTML object>"
            ]
          },
          "metadata": {
            "tags": []
          }
        },
        {
          "output_type": "stream",
          "text": [
            "Saving COVID-19 Survey Student Responses.csv to COVID-19 Survey Student Responses.csv\n"
          ],
          "name": "stdout"
        }
      ]
    },
    {
      "cell_type": "code",
      "metadata": {
        "colab": {
          "base_uri": "https://localhost:8080/"
        },
        "id": "OaaVJqyrWIRv",
        "outputId": "3b3796b4-737f-4c6d-b6de-71ba93583e37"
      },
      "source": [
        "import pandas as pd\n",
        "import numpy as np\n",
        "import seaborn as sns\n",
        "import matplotlib.pyplot as plt\n",
        "import plotly.express as px\n",
        "print(\"Success!!!\")"
      ],
      "execution_count": null,
      "outputs": [
        {
          "output_type": "stream",
          "text": [
            "Success!!!\n"
          ],
          "name": "stdout"
        }
      ]
    },
    {
      "cell_type": "code",
      "metadata": {
        "colab": {
          "base_uri": "https://localhost:8080/",
          "height": 795
        },
        "id": "P2OGp5jdWXc1",
        "outputId": "665298ab-834a-43ad-81ae-e668fda98fec"
      },
      "source": [
        "# dataframe shows first 5 and last 5 observations of datasets \n",
        "dataframe = pd.read_csv('COVID-19 Survey Student Responses.csv')\n",
        "dataframe"
      ],
      "execution_count": null,
      "outputs": [
        {
          "output_type": "execute_result",
          "data": {
            "text/html": [
              "<div>\n",
              "<style scoped>\n",
              "    .dataframe tbody tr th:only-of-type {\n",
              "        vertical-align: middle;\n",
              "    }\n",
              "\n",
              "    .dataframe tbody tr th {\n",
              "        vertical-align: top;\n",
              "    }\n",
              "\n",
              "    .dataframe thead th {\n",
              "        text-align: right;\n",
              "    }\n",
              "</style>\n",
              "<table border=\"1\" class=\"dataframe\">\n",
              "  <thead>\n",
              "    <tr style=\"text-align: right;\">\n",
              "      <th></th>\n",
              "      <th>ID</th>\n",
              "      <th>Region of residence</th>\n",
              "      <th>Age of Subject</th>\n",
              "      <th>Time spent on Online Class</th>\n",
              "      <th>Rating of Online Class experience</th>\n",
              "      <th>Medium for online class</th>\n",
              "      <th>Time spent on self study</th>\n",
              "      <th>Time spent on fitness</th>\n",
              "      <th>Time spent on sleep</th>\n",
              "      <th>Time spent on social media</th>\n",
              "      <th>Prefered social media platform</th>\n",
              "      <th>Time spent on TV</th>\n",
              "      <th>Number of meals per day</th>\n",
              "      <th>Change in your weight</th>\n",
              "      <th>Health issue during lockdown</th>\n",
              "      <th>Stress busters</th>\n",
              "      <th>Time utilized</th>\n",
              "      <th>Do you find yourself more connected with your family, close friends , relatives  ?</th>\n",
              "      <th>What you miss the most</th>\n",
              "    </tr>\n",
              "  </thead>\n",
              "  <tbody>\n",
              "    <tr>\n",
              "      <th>0</th>\n",
              "      <td>R1</td>\n",
              "      <td>Delhi-NCR</td>\n",
              "      <td>21</td>\n",
              "      <td>2.0</td>\n",
              "      <td>Good</td>\n",
              "      <td>Laptop/Desktop</td>\n",
              "      <td>4.0</td>\n",
              "      <td>0.0</td>\n",
              "      <td>7.0</td>\n",
              "      <td>3.0</td>\n",
              "      <td>Linkedin</td>\n",
              "      <td>1</td>\n",
              "      <td>4</td>\n",
              "      <td>Increased</td>\n",
              "      <td>NO</td>\n",
              "      <td>Cooking</td>\n",
              "      <td>YES</td>\n",
              "      <td>YES</td>\n",
              "      <td>School/college</td>\n",
              "    </tr>\n",
              "    <tr>\n",
              "      <th>1</th>\n",
              "      <td>R2</td>\n",
              "      <td>Delhi-NCR</td>\n",
              "      <td>21</td>\n",
              "      <td>0.0</td>\n",
              "      <td>Excellent</td>\n",
              "      <td>Smartphone</td>\n",
              "      <td>0.0</td>\n",
              "      <td>2.0</td>\n",
              "      <td>10.0</td>\n",
              "      <td>3.0</td>\n",
              "      <td>Youtube</td>\n",
              "      <td>0</td>\n",
              "      <td>3</td>\n",
              "      <td>Decreased</td>\n",
              "      <td>NO</td>\n",
              "      <td>Scrolling through social media</td>\n",
              "      <td>YES</td>\n",
              "      <td>NO</td>\n",
              "      <td>Roaming around freely</td>\n",
              "    </tr>\n",
              "    <tr>\n",
              "      <th>2</th>\n",
              "      <td>R3</td>\n",
              "      <td>Delhi-NCR</td>\n",
              "      <td>20</td>\n",
              "      <td>7.0</td>\n",
              "      <td>Very poor</td>\n",
              "      <td>Laptop/Desktop</td>\n",
              "      <td>3.0</td>\n",
              "      <td>0.0</td>\n",
              "      <td>6.0</td>\n",
              "      <td>2.0</td>\n",
              "      <td>Linkedin</td>\n",
              "      <td>0</td>\n",
              "      <td>3</td>\n",
              "      <td>Remain Constant</td>\n",
              "      <td>NO</td>\n",
              "      <td>Listening to music</td>\n",
              "      <td>NO</td>\n",
              "      <td>YES</td>\n",
              "      <td>Travelling</td>\n",
              "    </tr>\n",
              "    <tr>\n",
              "      <th>3</th>\n",
              "      <td>R4</td>\n",
              "      <td>Delhi-NCR</td>\n",
              "      <td>20</td>\n",
              "      <td>3.0</td>\n",
              "      <td>Very poor</td>\n",
              "      <td>Smartphone</td>\n",
              "      <td>2.0</td>\n",
              "      <td>1.0</td>\n",
              "      <td>6.0</td>\n",
              "      <td>5.0</td>\n",
              "      <td>Instagram</td>\n",
              "      <td>0</td>\n",
              "      <td>3</td>\n",
              "      <td>Decreased</td>\n",
              "      <td>NO</td>\n",
              "      <td>Watching web series</td>\n",
              "      <td>NO</td>\n",
              "      <td>NO</td>\n",
              "      <td>Friends , relatives</td>\n",
              "    </tr>\n",
              "    <tr>\n",
              "      <th>4</th>\n",
              "      <td>R5</td>\n",
              "      <td>Delhi-NCR</td>\n",
              "      <td>21</td>\n",
              "      <td>3.0</td>\n",
              "      <td>Good</td>\n",
              "      <td>Laptop/Desktop</td>\n",
              "      <td>3.0</td>\n",
              "      <td>1.0</td>\n",
              "      <td>8.0</td>\n",
              "      <td>3.0</td>\n",
              "      <td>Instagram</td>\n",
              "      <td>1</td>\n",
              "      <td>4</td>\n",
              "      <td>Remain Constant</td>\n",
              "      <td>NO</td>\n",
              "      <td>Social Media</td>\n",
              "      <td>NO</td>\n",
              "      <td>NO</td>\n",
              "      <td>Travelling</td>\n",
              "    </tr>\n",
              "    <tr>\n",
              "      <th>...</th>\n",
              "      <td>...</td>\n",
              "      <td>...</td>\n",
              "      <td>...</td>\n",
              "      <td>...</td>\n",
              "      <td>...</td>\n",
              "      <td>...</td>\n",
              "      <td>...</td>\n",
              "      <td>...</td>\n",
              "      <td>...</td>\n",
              "      <td>...</td>\n",
              "      <td>...</td>\n",
              "      <td>...</td>\n",
              "      <td>...</td>\n",
              "      <td>...</td>\n",
              "      <td>...</td>\n",
              "      <td>...</td>\n",
              "      <td>...</td>\n",
              "      <td>...</td>\n",
              "      <td>...</td>\n",
              "    </tr>\n",
              "    <tr>\n",
              "      <th>1177</th>\n",
              "      <td>R1191</td>\n",
              "      <td>Delhi-NCR</td>\n",
              "      <td>12</td>\n",
              "      <td>3.0</td>\n",
              "      <td>Good</td>\n",
              "      <td>Smartphone</td>\n",
              "      <td>4.0</td>\n",
              "      <td>1.0</td>\n",
              "      <td>8.0</td>\n",
              "      <td>1.0</td>\n",
              "      <td>Instagram</td>\n",
              "      <td>2</td>\n",
              "      <td>3</td>\n",
              "      <td>Decreased</td>\n",
              "      <td>NO</td>\n",
              "      <td>Dancing</td>\n",
              "      <td>YES</td>\n",
              "      <td>YES</td>\n",
              "      <td>Travelling</td>\n",
              "    </tr>\n",
              "    <tr>\n",
              "      <th>1178</th>\n",
              "      <td>R1192</td>\n",
              "      <td>Delhi-NCR</td>\n",
              "      <td>14</td>\n",
              "      <td>6.0</td>\n",
              "      <td>Average</td>\n",
              "      <td>Smartphone</td>\n",
              "      <td>4.0</td>\n",
              "      <td>1.0</td>\n",
              "      <td>9.0</td>\n",
              "      <td>1.0</td>\n",
              "      <td>Whatsapp</td>\n",
              "      <td>1</td>\n",
              "      <td>4</td>\n",
              "      <td>Remain Constant</td>\n",
              "      <td>NO</td>\n",
              "      <td>Listening to music</td>\n",
              "      <td>YES</td>\n",
              "      <td>YES</td>\n",
              "      <td>Friends , relatives</td>\n",
              "    </tr>\n",
              "    <tr>\n",
              "      <th>1179</th>\n",
              "      <td>R1193</td>\n",
              "      <td>Delhi-NCR</td>\n",
              "      <td>13</td>\n",
              "      <td>4.0</td>\n",
              "      <td>Average</td>\n",
              "      <td>Smartphone</td>\n",
              "      <td>0.0</td>\n",
              "      <td>0.5</td>\n",
              "      <td>8.0</td>\n",
              "      <td>3.0</td>\n",
              "      <td>Youtube</td>\n",
              "      <td>2</td>\n",
              "      <td>4</td>\n",
              "      <td>Decreased</td>\n",
              "      <td>NO</td>\n",
              "      <td>Online gaming</td>\n",
              "      <td>NO</td>\n",
              "      <td>YES</td>\n",
              "      <td>School/college</td>\n",
              "    </tr>\n",
              "    <tr>\n",
              "      <th>1180</th>\n",
              "      <td>R1194</td>\n",
              "      <td>Delhi-NCR</td>\n",
              "      <td>14</td>\n",
              "      <td>5.0</td>\n",
              "      <td>Excellent</td>\n",
              "      <td>Laptop/Desktop</td>\n",
              "      <td>3.5</td>\n",
              "      <td>1.0</td>\n",
              "      <td>8.0</td>\n",
              "      <td>0.5</td>\n",
              "      <td>Youtube</td>\n",
              "      <td>1</td>\n",
              "      <td>4</td>\n",
              "      <td>Remain Constant</td>\n",
              "      <td>NO</td>\n",
              "      <td>Reading books</td>\n",
              "      <td>YES</td>\n",
              "      <td>YES</td>\n",
              "      <td>School/college</td>\n",
              "    </tr>\n",
              "    <tr>\n",
              "      <th>1181</th>\n",
              "      <td>R1195</td>\n",
              "      <td>Delhi-NCR</td>\n",
              "      <td>13</td>\n",
              "      <td>5.0</td>\n",
              "      <td>Good</td>\n",
              "      <td>Tablet</td>\n",
              "      <td>2.0</td>\n",
              "      <td>0.5</td>\n",
              "      <td>7.0</td>\n",
              "      <td>1.0</td>\n",
              "      <td>Whatsapp</td>\n",
              "      <td>1</td>\n",
              "      <td>3</td>\n",
              "      <td>Remain Constant</td>\n",
              "      <td>NO</td>\n",
              "      <td>Talking</td>\n",
              "      <td>YES</td>\n",
              "      <td>YES</td>\n",
              "      <td>School/college</td>\n",
              "    </tr>\n",
              "  </tbody>\n",
              "</table>\n",
              "<p>1182 rows × 19 columns</p>\n",
              "</div>"
            ],
            "text/plain": [
              "         ID  ... What you miss the most\n",
              "0        R1  ...         School/college\n",
              "1        R2  ...  Roaming around freely\n",
              "2        R3  ...             Travelling\n",
              "3        R4  ...    Friends , relatives\n",
              "4        R5  ...             Travelling\n",
              "...     ...  ...                    ...\n",
              "1177  R1191  ...             Travelling\n",
              "1178  R1192  ...    Friends , relatives\n",
              "1179  R1193  ...         School/college\n",
              "1180  R1194  ...         School/college\n",
              "1181  R1195  ...         School/college\n",
              "\n",
              "[1182 rows x 19 columns]"
            ]
          },
          "metadata": {
            "tags": []
          },
          "execution_count": 4
        }
      ]
    },
    {
      "cell_type": "markdown",
      "metadata": {
        "id": "PG3NRbv_X4uM"
      },
      "source": [
        "# **POTENTIAL DV/IV**"
      ]
    },
    {
      "cell_type": "code",
      "metadata": {
        "colab": {
          "base_uri": "https://localhost:8080/"
        },
        "id": "ct_Ui73kYEnD",
        "outputId": "1dd5e2ee-7a94-4a0d-f4ca-a36df97bf32c"
      },
      "source": [
        "for col in dataframe.columns: \n",
        "    print(col)"
      ],
      "execution_count": null,
      "outputs": [
        {
          "output_type": "stream",
          "text": [
            "ID\n",
            "Region of residence\n",
            "Age of Subject\n",
            "Time spent on Online Class\n",
            "Rating of Online Class experience\n",
            "Medium for online class\n",
            "Time spent on self study\n",
            "Time spent on fitness\n",
            "Time spent on sleep\n",
            "Time spent on social media\n",
            "Prefered social media platform\n",
            "Time spent on TV\n",
            "Number of meals per day\n",
            "Change in your weight\n",
            "Health issue during lockdown\n",
            "Stress busters\n",
            "Time utilized\n",
            "Do you find yourself more connected with your family, close friends , relatives  ?\n",
            "What you miss the most\n"
          ],
          "name": "stdout"
        }
      ]
    },
    {
      "cell_type": "markdown",
      "metadata": {
        "id": "t3EFT43_e_1U"
      },
      "source": [
        "# **Missing Data**"
      ]
    },
    {
      "cell_type": "code",
      "metadata": {
        "colab": {
          "base_uri": "https://localhost:8080/",
          "height": 608
        },
        "id": "FwEP91dkfCbT",
        "outputId": "0310cefb-7a31-4928-c20c-e23ede3ec085"
      },
      "source": [
        "# dataframe.isnull() retuns all columns with missing data\n",
        "dataframe.isnull()"
      ],
      "execution_count": null,
      "outputs": [
        {
          "output_type": "execute_result",
          "data": {
            "text/html": [
              "<div>\n",
              "<style scoped>\n",
              "    .dataframe tbody tr th:only-of-type {\n",
              "        vertical-align: middle;\n",
              "    }\n",
              "\n",
              "    .dataframe tbody tr th {\n",
              "        vertical-align: top;\n",
              "    }\n",
              "\n",
              "    .dataframe thead th {\n",
              "        text-align: right;\n",
              "    }\n",
              "</style>\n",
              "<table border=\"1\" class=\"dataframe\">\n",
              "  <thead>\n",
              "    <tr style=\"text-align: right;\">\n",
              "      <th></th>\n",
              "      <th>ID</th>\n",
              "      <th>Region of residence</th>\n",
              "      <th>Age of Subject</th>\n",
              "      <th>Time spent on Online Class</th>\n",
              "      <th>Rating of Online Class experience</th>\n",
              "      <th>Medium for online class</th>\n",
              "      <th>Time spent on self study</th>\n",
              "      <th>Time spent on fitness</th>\n",
              "      <th>Time spent on sleep</th>\n",
              "      <th>Time spent on social media</th>\n",
              "      <th>Prefered social media platform</th>\n",
              "      <th>Time spent on TV</th>\n",
              "      <th>Number of meals per day</th>\n",
              "      <th>Change in your weight</th>\n",
              "      <th>Health issue during lockdown</th>\n",
              "      <th>Stress busters</th>\n",
              "      <th>Time utilized</th>\n",
              "      <th>Do you find yourself more connected with your family, close friends , relatives  ?</th>\n",
              "      <th>What you miss the most</th>\n",
              "    </tr>\n",
              "  </thead>\n",
              "  <tbody>\n",
              "    <tr>\n",
              "      <th>0</th>\n",
              "      <td>False</td>\n",
              "      <td>False</td>\n",
              "      <td>False</td>\n",
              "      <td>False</td>\n",
              "      <td>False</td>\n",
              "      <td>False</td>\n",
              "      <td>False</td>\n",
              "      <td>False</td>\n",
              "      <td>False</td>\n",
              "      <td>False</td>\n",
              "      <td>False</td>\n",
              "      <td>False</td>\n",
              "      <td>False</td>\n",
              "      <td>False</td>\n",
              "      <td>False</td>\n",
              "      <td>False</td>\n",
              "      <td>False</td>\n",
              "      <td>False</td>\n",
              "      <td>False</td>\n",
              "    </tr>\n",
              "    <tr>\n",
              "      <th>1</th>\n",
              "      <td>False</td>\n",
              "      <td>False</td>\n",
              "      <td>False</td>\n",
              "      <td>False</td>\n",
              "      <td>False</td>\n",
              "      <td>False</td>\n",
              "      <td>False</td>\n",
              "      <td>False</td>\n",
              "      <td>False</td>\n",
              "      <td>False</td>\n",
              "      <td>False</td>\n",
              "      <td>False</td>\n",
              "      <td>False</td>\n",
              "      <td>False</td>\n",
              "      <td>False</td>\n",
              "      <td>False</td>\n",
              "      <td>False</td>\n",
              "      <td>False</td>\n",
              "      <td>False</td>\n",
              "    </tr>\n",
              "    <tr>\n",
              "      <th>2</th>\n",
              "      <td>False</td>\n",
              "      <td>False</td>\n",
              "      <td>False</td>\n",
              "      <td>False</td>\n",
              "      <td>False</td>\n",
              "      <td>False</td>\n",
              "      <td>False</td>\n",
              "      <td>False</td>\n",
              "      <td>False</td>\n",
              "      <td>False</td>\n",
              "      <td>False</td>\n",
              "      <td>False</td>\n",
              "      <td>False</td>\n",
              "      <td>False</td>\n",
              "      <td>False</td>\n",
              "      <td>False</td>\n",
              "      <td>False</td>\n",
              "      <td>False</td>\n",
              "      <td>False</td>\n",
              "    </tr>\n",
              "    <tr>\n",
              "      <th>3</th>\n",
              "      <td>False</td>\n",
              "      <td>False</td>\n",
              "      <td>False</td>\n",
              "      <td>False</td>\n",
              "      <td>False</td>\n",
              "      <td>False</td>\n",
              "      <td>False</td>\n",
              "      <td>False</td>\n",
              "      <td>False</td>\n",
              "      <td>False</td>\n",
              "      <td>False</td>\n",
              "      <td>False</td>\n",
              "      <td>False</td>\n",
              "      <td>False</td>\n",
              "      <td>False</td>\n",
              "      <td>False</td>\n",
              "      <td>False</td>\n",
              "      <td>False</td>\n",
              "      <td>False</td>\n",
              "    </tr>\n",
              "    <tr>\n",
              "      <th>4</th>\n",
              "      <td>False</td>\n",
              "      <td>False</td>\n",
              "      <td>False</td>\n",
              "      <td>False</td>\n",
              "      <td>False</td>\n",
              "      <td>False</td>\n",
              "      <td>False</td>\n",
              "      <td>False</td>\n",
              "      <td>False</td>\n",
              "      <td>False</td>\n",
              "      <td>False</td>\n",
              "      <td>False</td>\n",
              "      <td>False</td>\n",
              "      <td>False</td>\n",
              "      <td>False</td>\n",
              "      <td>False</td>\n",
              "      <td>False</td>\n",
              "      <td>False</td>\n",
              "      <td>False</td>\n",
              "    </tr>\n",
              "    <tr>\n",
              "      <th>...</th>\n",
              "      <td>...</td>\n",
              "      <td>...</td>\n",
              "      <td>...</td>\n",
              "      <td>...</td>\n",
              "      <td>...</td>\n",
              "      <td>...</td>\n",
              "      <td>...</td>\n",
              "      <td>...</td>\n",
              "      <td>...</td>\n",
              "      <td>...</td>\n",
              "      <td>...</td>\n",
              "      <td>...</td>\n",
              "      <td>...</td>\n",
              "      <td>...</td>\n",
              "      <td>...</td>\n",
              "      <td>...</td>\n",
              "      <td>...</td>\n",
              "      <td>...</td>\n",
              "      <td>...</td>\n",
              "    </tr>\n",
              "    <tr>\n",
              "      <th>1177</th>\n",
              "      <td>False</td>\n",
              "      <td>False</td>\n",
              "      <td>False</td>\n",
              "      <td>False</td>\n",
              "      <td>False</td>\n",
              "      <td>False</td>\n",
              "      <td>False</td>\n",
              "      <td>False</td>\n",
              "      <td>False</td>\n",
              "      <td>False</td>\n",
              "      <td>False</td>\n",
              "      <td>False</td>\n",
              "      <td>False</td>\n",
              "      <td>False</td>\n",
              "      <td>False</td>\n",
              "      <td>False</td>\n",
              "      <td>False</td>\n",
              "      <td>False</td>\n",
              "      <td>False</td>\n",
              "    </tr>\n",
              "    <tr>\n",
              "      <th>1178</th>\n",
              "      <td>False</td>\n",
              "      <td>False</td>\n",
              "      <td>False</td>\n",
              "      <td>False</td>\n",
              "      <td>False</td>\n",
              "      <td>False</td>\n",
              "      <td>False</td>\n",
              "      <td>False</td>\n",
              "      <td>False</td>\n",
              "      <td>False</td>\n",
              "      <td>False</td>\n",
              "      <td>False</td>\n",
              "      <td>False</td>\n",
              "      <td>False</td>\n",
              "      <td>False</td>\n",
              "      <td>False</td>\n",
              "      <td>False</td>\n",
              "      <td>False</td>\n",
              "      <td>False</td>\n",
              "    </tr>\n",
              "    <tr>\n",
              "      <th>1179</th>\n",
              "      <td>False</td>\n",
              "      <td>False</td>\n",
              "      <td>False</td>\n",
              "      <td>False</td>\n",
              "      <td>False</td>\n",
              "      <td>False</td>\n",
              "      <td>False</td>\n",
              "      <td>False</td>\n",
              "      <td>False</td>\n",
              "      <td>False</td>\n",
              "      <td>False</td>\n",
              "      <td>False</td>\n",
              "      <td>False</td>\n",
              "      <td>False</td>\n",
              "      <td>False</td>\n",
              "      <td>False</td>\n",
              "      <td>False</td>\n",
              "      <td>False</td>\n",
              "      <td>False</td>\n",
              "    </tr>\n",
              "    <tr>\n",
              "      <th>1180</th>\n",
              "      <td>False</td>\n",
              "      <td>False</td>\n",
              "      <td>False</td>\n",
              "      <td>False</td>\n",
              "      <td>False</td>\n",
              "      <td>False</td>\n",
              "      <td>False</td>\n",
              "      <td>False</td>\n",
              "      <td>False</td>\n",
              "      <td>False</td>\n",
              "      <td>False</td>\n",
              "      <td>False</td>\n",
              "      <td>False</td>\n",
              "      <td>False</td>\n",
              "      <td>False</td>\n",
              "      <td>False</td>\n",
              "      <td>False</td>\n",
              "      <td>False</td>\n",
              "      <td>False</td>\n",
              "    </tr>\n",
              "    <tr>\n",
              "      <th>1181</th>\n",
              "      <td>False</td>\n",
              "      <td>False</td>\n",
              "      <td>False</td>\n",
              "      <td>False</td>\n",
              "      <td>False</td>\n",
              "      <td>False</td>\n",
              "      <td>False</td>\n",
              "      <td>False</td>\n",
              "      <td>False</td>\n",
              "      <td>False</td>\n",
              "      <td>False</td>\n",
              "      <td>False</td>\n",
              "      <td>False</td>\n",
              "      <td>False</td>\n",
              "      <td>False</td>\n",
              "      <td>False</td>\n",
              "      <td>False</td>\n",
              "      <td>False</td>\n",
              "      <td>False</td>\n",
              "    </tr>\n",
              "  </tbody>\n",
              "</table>\n",
              "<p>1182 rows × 19 columns</p>\n",
              "</div>"
            ],
            "text/plain": [
              "         ID  ...  What you miss the most\n",
              "0     False  ...                   False\n",
              "1     False  ...                   False\n",
              "2     False  ...                   False\n",
              "3     False  ...                   False\n",
              "4     False  ...                   False\n",
              "...     ...  ...                     ...\n",
              "1177  False  ...                   False\n",
              "1178  False  ...                   False\n",
              "1179  False  ...                   False\n",
              "1180  False  ...                   False\n",
              "1181  False  ...                   False\n",
              "\n",
              "[1182 rows x 19 columns]"
            ]
          },
          "metadata": {
            "tags": []
          },
          "execution_count": 5
        }
      ]
    },
    {
      "cell_type": "code",
      "metadata": {
        "colab": {
          "base_uri": "https://localhost:8080/"
        },
        "id": "bz8OKlBOfw81",
        "outputId": "ac5b9d5f-04e4-4d91-cd6c-57fbb615dbb2"
      },
      "source": [
        "dataframe.isna().sum()"
      ],
      "execution_count": null,
      "outputs": [
        {
          "output_type": "execute_result",
          "data": {
            "text/plain": [
              "ID                                                                                     0\n",
              "Region of residence                                                                    0\n",
              "Age of Subject                                                                         0\n",
              "Time spent on Online Class                                                             0\n",
              "Rating of Online Class experience                                                     24\n",
              "Medium for online class                                                               51\n",
              "Time spent on self study                                                               0\n",
              "Time spent on fitness                                                                  0\n",
              "Time spent on sleep                                                                    0\n",
              "Time spent on social media                                                             0\n",
              "Prefered social media platform                                                         0\n",
              "Time spent on TV                                                                       0\n",
              "Number of meals per day                                                                0\n",
              "Change in your weight                                                                  0\n",
              "Health issue during lockdown                                                           0\n",
              "Stress busters                                                                         0\n",
              "Time utilized                                                                          0\n",
              "Do you find yourself more connected with your family, close friends , relatives  ?     0\n",
              "What you miss the most                                                                 0\n",
              "dtype: int64"
            ]
          },
          "metadata": {
            "tags": []
          },
          "execution_count": 6
        }
      ]
    },
    {
      "cell_type": "code",
      "metadata": {
        "colab": {
          "base_uri": "https://localhost:8080/"
        },
        "id": "_doDxTb4Ligq",
        "outputId": "db07faf3-012f-4189-b1bf-ef411155af1b"
      },
      "source": [
        "dataframe.dtypes"
      ],
      "execution_count": null,
      "outputs": [
        {
          "output_type": "execute_result",
          "data": {
            "text/plain": [
              "ID                                                                                     object\n",
              "Region of residence                                                                    object\n",
              "Age of Subject                                                                          int64\n",
              "Time spent on Online Class                                                            float64\n",
              "Rating of Online Class experience                                                      object\n",
              "Medium for online class                                                                object\n",
              "Time spent on self study                                                              float64\n",
              "Time spent on fitness                                                                 float64\n",
              "Time spent on sleep                                                                   float64\n",
              "Time spent on social media                                                            float64\n",
              "Prefered social media platform                                                         object\n",
              "Time spent on TV                                                                       object\n",
              "Number of meals per day                                                                 int64\n",
              "Change in your weight                                                                  object\n",
              "Health issue during lockdown                                                           object\n",
              "Stress busters                                                                         object\n",
              "Time utilized                                                                          object\n",
              "Do you find yourself more connected with your family, close friends , relatives  ?     object\n",
              "What you miss the most                                                                 object\n",
              "dtype: object"
            ]
          },
          "metadata": {
            "tags": []
          },
          "execution_count": 7
        }
      ]
    },
    {
      "cell_type": "code",
      "metadata": {
        "colab": {
          "base_uri": "https://localhost:8080/",
          "height": 795
        },
        "id": "jxSDVzdmL05f",
        "outputId": "4921bb0d-0224-4e34-9632-543953216109"
      },
      "source": [
        "dataframe.dropna(subset = ['Age of Subject'], inplace=True)\n",
        "dataframe"
      ],
      "execution_count": null,
      "outputs": [
        {
          "output_type": "execute_result",
          "data": {
            "text/html": [
              "<div>\n",
              "<style scoped>\n",
              "    .dataframe tbody tr th:only-of-type {\n",
              "        vertical-align: middle;\n",
              "    }\n",
              "\n",
              "    .dataframe tbody tr th {\n",
              "        vertical-align: top;\n",
              "    }\n",
              "\n",
              "    .dataframe thead th {\n",
              "        text-align: right;\n",
              "    }\n",
              "</style>\n",
              "<table border=\"1\" class=\"dataframe\">\n",
              "  <thead>\n",
              "    <tr style=\"text-align: right;\">\n",
              "      <th></th>\n",
              "      <th>ID</th>\n",
              "      <th>Region of residence</th>\n",
              "      <th>Age of Subject</th>\n",
              "      <th>Time spent on Online Class</th>\n",
              "      <th>Rating of Online Class experience</th>\n",
              "      <th>Medium for online class</th>\n",
              "      <th>Time spent on self study</th>\n",
              "      <th>Time spent on fitness</th>\n",
              "      <th>Time spent on sleep</th>\n",
              "      <th>Time spent on social media</th>\n",
              "      <th>Prefered social media platform</th>\n",
              "      <th>Time spent on TV</th>\n",
              "      <th>Number of meals per day</th>\n",
              "      <th>Change in your weight</th>\n",
              "      <th>Health issue during lockdown</th>\n",
              "      <th>Stress busters</th>\n",
              "      <th>Time utilized</th>\n",
              "      <th>Do you find yourself more connected with your family, close friends , relatives  ?</th>\n",
              "      <th>What you miss the most</th>\n",
              "    </tr>\n",
              "  </thead>\n",
              "  <tbody>\n",
              "    <tr>\n",
              "      <th>0</th>\n",
              "      <td>R1</td>\n",
              "      <td>Delhi-NCR</td>\n",
              "      <td>21</td>\n",
              "      <td>2.0</td>\n",
              "      <td>Good</td>\n",
              "      <td>Laptop/Desktop</td>\n",
              "      <td>4.0</td>\n",
              "      <td>0.0</td>\n",
              "      <td>7.0</td>\n",
              "      <td>3.0</td>\n",
              "      <td>Linkedin</td>\n",
              "      <td>1</td>\n",
              "      <td>4</td>\n",
              "      <td>Increased</td>\n",
              "      <td>NO</td>\n",
              "      <td>Cooking</td>\n",
              "      <td>YES</td>\n",
              "      <td>YES</td>\n",
              "      <td>School/college</td>\n",
              "    </tr>\n",
              "    <tr>\n",
              "      <th>1</th>\n",
              "      <td>R2</td>\n",
              "      <td>Delhi-NCR</td>\n",
              "      <td>21</td>\n",
              "      <td>0.0</td>\n",
              "      <td>Excellent</td>\n",
              "      <td>Smartphone</td>\n",
              "      <td>0.0</td>\n",
              "      <td>2.0</td>\n",
              "      <td>10.0</td>\n",
              "      <td>3.0</td>\n",
              "      <td>Youtube</td>\n",
              "      <td>0</td>\n",
              "      <td>3</td>\n",
              "      <td>Decreased</td>\n",
              "      <td>NO</td>\n",
              "      <td>Scrolling through social media</td>\n",
              "      <td>YES</td>\n",
              "      <td>NO</td>\n",
              "      <td>Roaming around freely</td>\n",
              "    </tr>\n",
              "    <tr>\n",
              "      <th>2</th>\n",
              "      <td>R3</td>\n",
              "      <td>Delhi-NCR</td>\n",
              "      <td>20</td>\n",
              "      <td>7.0</td>\n",
              "      <td>Very poor</td>\n",
              "      <td>Laptop/Desktop</td>\n",
              "      <td>3.0</td>\n",
              "      <td>0.0</td>\n",
              "      <td>6.0</td>\n",
              "      <td>2.0</td>\n",
              "      <td>Linkedin</td>\n",
              "      <td>0</td>\n",
              "      <td>3</td>\n",
              "      <td>Remain Constant</td>\n",
              "      <td>NO</td>\n",
              "      <td>Listening to music</td>\n",
              "      <td>NO</td>\n",
              "      <td>YES</td>\n",
              "      <td>Travelling</td>\n",
              "    </tr>\n",
              "    <tr>\n",
              "      <th>3</th>\n",
              "      <td>R4</td>\n",
              "      <td>Delhi-NCR</td>\n",
              "      <td>20</td>\n",
              "      <td>3.0</td>\n",
              "      <td>Very poor</td>\n",
              "      <td>Smartphone</td>\n",
              "      <td>2.0</td>\n",
              "      <td>1.0</td>\n",
              "      <td>6.0</td>\n",
              "      <td>5.0</td>\n",
              "      <td>Instagram</td>\n",
              "      <td>0</td>\n",
              "      <td>3</td>\n",
              "      <td>Decreased</td>\n",
              "      <td>NO</td>\n",
              "      <td>Watching web series</td>\n",
              "      <td>NO</td>\n",
              "      <td>NO</td>\n",
              "      <td>Friends , relatives</td>\n",
              "    </tr>\n",
              "    <tr>\n",
              "      <th>4</th>\n",
              "      <td>R5</td>\n",
              "      <td>Delhi-NCR</td>\n",
              "      <td>21</td>\n",
              "      <td>3.0</td>\n",
              "      <td>Good</td>\n",
              "      <td>Laptop/Desktop</td>\n",
              "      <td>3.0</td>\n",
              "      <td>1.0</td>\n",
              "      <td>8.0</td>\n",
              "      <td>3.0</td>\n",
              "      <td>Instagram</td>\n",
              "      <td>1</td>\n",
              "      <td>4</td>\n",
              "      <td>Remain Constant</td>\n",
              "      <td>NO</td>\n",
              "      <td>Social Media</td>\n",
              "      <td>NO</td>\n",
              "      <td>NO</td>\n",
              "      <td>Travelling</td>\n",
              "    </tr>\n",
              "    <tr>\n",
              "      <th>...</th>\n",
              "      <td>...</td>\n",
              "      <td>...</td>\n",
              "      <td>...</td>\n",
              "      <td>...</td>\n",
              "      <td>...</td>\n",
              "      <td>...</td>\n",
              "      <td>...</td>\n",
              "      <td>...</td>\n",
              "      <td>...</td>\n",
              "      <td>...</td>\n",
              "      <td>...</td>\n",
              "      <td>...</td>\n",
              "      <td>...</td>\n",
              "      <td>...</td>\n",
              "      <td>...</td>\n",
              "      <td>...</td>\n",
              "      <td>...</td>\n",
              "      <td>...</td>\n",
              "      <td>...</td>\n",
              "    </tr>\n",
              "    <tr>\n",
              "      <th>1177</th>\n",
              "      <td>R1191</td>\n",
              "      <td>Delhi-NCR</td>\n",
              "      <td>12</td>\n",
              "      <td>3.0</td>\n",
              "      <td>Good</td>\n",
              "      <td>Smartphone</td>\n",
              "      <td>4.0</td>\n",
              "      <td>1.0</td>\n",
              "      <td>8.0</td>\n",
              "      <td>1.0</td>\n",
              "      <td>Instagram</td>\n",
              "      <td>2</td>\n",
              "      <td>3</td>\n",
              "      <td>Decreased</td>\n",
              "      <td>NO</td>\n",
              "      <td>Dancing</td>\n",
              "      <td>YES</td>\n",
              "      <td>YES</td>\n",
              "      <td>Travelling</td>\n",
              "    </tr>\n",
              "    <tr>\n",
              "      <th>1178</th>\n",
              "      <td>R1192</td>\n",
              "      <td>Delhi-NCR</td>\n",
              "      <td>14</td>\n",
              "      <td>6.0</td>\n",
              "      <td>Average</td>\n",
              "      <td>Smartphone</td>\n",
              "      <td>4.0</td>\n",
              "      <td>1.0</td>\n",
              "      <td>9.0</td>\n",
              "      <td>1.0</td>\n",
              "      <td>Whatsapp</td>\n",
              "      <td>1</td>\n",
              "      <td>4</td>\n",
              "      <td>Remain Constant</td>\n",
              "      <td>NO</td>\n",
              "      <td>Listening to music</td>\n",
              "      <td>YES</td>\n",
              "      <td>YES</td>\n",
              "      <td>Friends , relatives</td>\n",
              "    </tr>\n",
              "    <tr>\n",
              "      <th>1179</th>\n",
              "      <td>R1193</td>\n",
              "      <td>Delhi-NCR</td>\n",
              "      <td>13</td>\n",
              "      <td>4.0</td>\n",
              "      <td>Average</td>\n",
              "      <td>Smartphone</td>\n",
              "      <td>0.0</td>\n",
              "      <td>0.5</td>\n",
              "      <td>8.0</td>\n",
              "      <td>3.0</td>\n",
              "      <td>Youtube</td>\n",
              "      <td>2</td>\n",
              "      <td>4</td>\n",
              "      <td>Decreased</td>\n",
              "      <td>NO</td>\n",
              "      <td>Online gaming</td>\n",
              "      <td>NO</td>\n",
              "      <td>YES</td>\n",
              "      <td>School/college</td>\n",
              "    </tr>\n",
              "    <tr>\n",
              "      <th>1180</th>\n",
              "      <td>R1194</td>\n",
              "      <td>Delhi-NCR</td>\n",
              "      <td>14</td>\n",
              "      <td>5.0</td>\n",
              "      <td>Excellent</td>\n",
              "      <td>Laptop/Desktop</td>\n",
              "      <td>3.5</td>\n",
              "      <td>1.0</td>\n",
              "      <td>8.0</td>\n",
              "      <td>0.5</td>\n",
              "      <td>Youtube</td>\n",
              "      <td>1</td>\n",
              "      <td>4</td>\n",
              "      <td>Remain Constant</td>\n",
              "      <td>NO</td>\n",
              "      <td>Reading books</td>\n",
              "      <td>YES</td>\n",
              "      <td>YES</td>\n",
              "      <td>School/college</td>\n",
              "    </tr>\n",
              "    <tr>\n",
              "      <th>1181</th>\n",
              "      <td>R1195</td>\n",
              "      <td>Delhi-NCR</td>\n",
              "      <td>13</td>\n",
              "      <td>5.0</td>\n",
              "      <td>Good</td>\n",
              "      <td>Tablet</td>\n",
              "      <td>2.0</td>\n",
              "      <td>0.5</td>\n",
              "      <td>7.0</td>\n",
              "      <td>1.0</td>\n",
              "      <td>Whatsapp</td>\n",
              "      <td>1</td>\n",
              "      <td>3</td>\n",
              "      <td>Remain Constant</td>\n",
              "      <td>NO</td>\n",
              "      <td>Talking</td>\n",
              "      <td>YES</td>\n",
              "      <td>YES</td>\n",
              "      <td>School/college</td>\n",
              "    </tr>\n",
              "  </tbody>\n",
              "</table>\n",
              "<p>1182 rows × 19 columns</p>\n",
              "</div>"
            ],
            "text/plain": [
              "         ID  ... What you miss the most\n",
              "0        R1  ...         School/college\n",
              "1        R2  ...  Roaming around freely\n",
              "2        R3  ...             Travelling\n",
              "3        R4  ...    Friends , relatives\n",
              "4        R5  ...             Travelling\n",
              "...     ...  ...                    ...\n",
              "1177  R1191  ...             Travelling\n",
              "1178  R1192  ...    Friends , relatives\n",
              "1179  R1193  ...         School/college\n",
              "1180  R1194  ...         School/college\n",
              "1181  R1195  ...         School/college\n",
              "\n",
              "[1182 rows x 19 columns]"
            ]
          },
          "metadata": {
            "tags": []
          },
          "execution_count": 6
        }
      ]
    },
    {
      "cell_type": "code",
      "metadata": {
        "colab": {
          "base_uri": "https://localhost:8080/",
          "height": 795
        },
        "id": "WnhIFXlxMByL",
        "outputId": "a619c491-ed81-47e7-dd79-e15c8acd5222"
      },
      "source": [
        "dataframe = dataframe.fillna('NA')\n",
        "dataframe"
      ],
      "execution_count": null,
      "outputs": [
        {
          "output_type": "execute_result",
          "data": {
            "text/html": [
              "<div>\n",
              "<style scoped>\n",
              "    .dataframe tbody tr th:only-of-type {\n",
              "        vertical-align: middle;\n",
              "    }\n",
              "\n",
              "    .dataframe tbody tr th {\n",
              "        vertical-align: top;\n",
              "    }\n",
              "\n",
              "    .dataframe thead th {\n",
              "        text-align: right;\n",
              "    }\n",
              "</style>\n",
              "<table border=\"1\" class=\"dataframe\">\n",
              "  <thead>\n",
              "    <tr style=\"text-align: right;\">\n",
              "      <th></th>\n",
              "      <th>ID</th>\n",
              "      <th>Region of residence</th>\n",
              "      <th>Age of Subject</th>\n",
              "      <th>Time spent on Online Class</th>\n",
              "      <th>Rating of Online Class experience</th>\n",
              "      <th>Medium for online class</th>\n",
              "      <th>Time spent on self study</th>\n",
              "      <th>Time spent on fitness</th>\n",
              "      <th>Time spent on sleep</th>\n",
              "      <th>Time spent on social media</th>\n",
              "      <th>Prefered social media platform</th>\n",
              "      <th>Time spent on TV</th>\n",
              "      <th>Number of meals per day</th>\n",
              "      <th>Change in your weight</th>\n",
              "      <th>Health issue during lockdown</th>\n",
              "      <th>Stress busters</th>\n",
              "      <th>Time utilized</th>\n",
              "      <th>Do you find yourself more connected with your family, close friends , relatives  ?</th>\n",
              "      <th>What you miss the most</th>\n",
              "    </tr>\n",
              "  </thead>\n",
              "  <tbody>\n",
              "    <tr>\n",
              "      <th>0</th>\n",
              "      <td>R1</td>\n",
              "      <td>Delhi-NCR</td>\n",
              "      <td>21</td>\n",
              "      <td>2.0</td>\n",
              "      <td>Good</td>\n",
              "      <td>Laptop/Desktop</td>\n",
              "      <td>4.0</td>\n",
              "      <td>0.0</td>\n",
              "      <td>7.0</td>\n",
              "      <td>3.0</td>\n",
              "      <td>Linkedin</td>\n",
              "      <td>1</td>\n",
              "      <td>4</td>\n",
              "      <td>Increased</td>\n",
              "      <td>NO</td>\n",
              "      <td>Cooking</td>\n",
              "      <td>YES</td>\n",
              "      <td>YES</td>\n",
              "      <td>School/college</td>\n",
              "    </tr>\n",
              "    <tr>\n",
              "      <th>1</th>\n",
              "      <td>R2</td>\n",
              "      <td>Delhi-NCR</td>\n",
              "      <td>21</td>\n",
              "      <td>0.0</td>\n",
              "      <td>Excellent</td>\n",
              "      <td>Smartphone</td>\n",
              "      <td>0.0</td>\n",
              "      <td>2.0</td>\n",
              "      <td>10.0</td>\n",
              "      <td>3.0</td>\n",
              "      <td>Youtube</td>\n",
              "      <td>0</td>\n",
              "      <td>3</td>\n",
              "      <td>Decreased</td>\n",
              "      <td>NO</td>\n",
              "      <td>Scrolling through social media</td>\n",
              "      <td>YES</td>\n",
              "      <td>NO</td>\n",
              "      <td>Roaming around freely</td>\n",
              "    </tr>\n",
              "    <tr>\n",
              "      <th>2</th>\n",
              "      <td>R3</td>\n",
              "      <td>Delhi-NCR</td>\n",
              "      <td>20</td>\n",
              "      <td>7.0</td>\n",
              "      <td>Very poor</td>\n",
              "      <td>Laptop/Desktop</td>\n",
              "      <td>3.0</td>\n",
              "      <td>0.0</td>\n",
              "      <td>6.0</td>\n",
              "      <td>2.0</td>\n",
              "      <td>Linkedin</td>\n",
              "      <td>0</td>\n",
              "      <td>3</td>\n",
              "      <td>Remain Constant</td>\n",
              "      <td>NO</td>\n",
              "      <td>Listening to music</td>\n",
              "      <td>NO</td>\n",
              "      <td>YES</td>\n",
              "      <td>Travelling</td>\n",
              "    </tr>\n",
              "    <tr>\n",
              "      <th>3</th>\n",
              "      <td>R4</td>\n",
              "      <td>Delhi-NCR</td>\n",
              "      <td>20</td>\n",
              "      <td>3.0</td>\n",
              "      <td>Very poor</td>\n",
              "      <td>Smartphone</td>\n",
              "      <td>2.0</td>\n",
              "      <td>1.0</td>\n",
              "      <td>6.0</td>\n",
              "      <td>5.0</td>\n",
              "      <td>Instagram</td>\n",
              "      <td>0</td>\n",
              "      <td>3</td>\n",
              "      <td>Decreased</td>\n",
              "      <td>NO</td>\n",
              "      <td>Watching web series</td>\n",
              "      <td>NO</td>\n",
              "      <td>NO</td>\n",
              "      <td>Friends , relatives</td>\n",
              "    </tr>\n",
              "    <tr>\n",
              "      <th>4</th>\n",
              "      <td>R5</td>\n",
              "      <td>Delhi-NCR</td>\n",
              "      <td>21</td>\n",
              "      <td>3.0</td>\n",
              "      <td>Good</td>\n",
              "      <td>Laptop/Desktop</td>\n",
              "      <td>3.0</td>\n",
              "      <td>1.0</td>\n",
              "      <td>8.0</td>\n",
              "      <td>3.0</td>\n",
              "      <td>Instagram</td>\n",
              "      <td>1</td>\n",
              "      <td>4</td>\n",
              "      <td>Remain Constant</td>\n",
              "      <td>NO</td>\n",
              "      <td>Social Media</td>\n",
              "      <td>NO</td>\n",
              "      <td>NO</td>\n",
              "      <td>Travelling</td>\n",
              "    </tr>\n",
              "    <tr>\n",
              "      <th>...</th>\n",
              "      <td>...</td>\n",
              "      <td>...</td>\n",
              "      <td>...</td>\n",
              "      <td>...</td>\n",
              "      <td>...</td>\n",
              "      <td>...</td>\n",
              "      <td>...</td>\n",
              "      <td>...</td>\n",
              "      <td>...</td>\n",
              "      <td>...</td>\n",
              "      <td>...</td>\n",
              "      <td>...</td>\n",
              "      <td>...</td>\n",
              "      <td>...</td>\n",
              "      <td>...</td>\n",
              "      <td>...</td>\n",
              "      <td>...</td>\n",
              "      <td>...</td>\n",
              "      <td>...</td>\n",
              "    </tr>\n",
              "    <tr>\n",
              "      <th>1177</th>\n",
              "      <td>R1191</td>\n",
              "      <td>Delhi-NCR</td>\n",
              "      <td>12</td>\n",
              "      <td>3.0</td>\n",
              "      <td>Good</td>\n",
              "      <td>Smartphone</td>\n",
              "      <td>4.0</td>\n",
              "      <td>1.0</td>\n",
              "      <td>8.0</td>\n",
              "      <td>1.0</td>\n",
              "      <td>Instagram</td>\n",
              "      <td>2</td>\n",
              "      <td>3</td>\n",
              "      <td>Decreased</td>\n",
              "      <td>NO</td>\n",
              "      <td>Dancing</td>\n",
              "      <td>YES</td>\n",
              "      <td>YES</td>\n",
              "      <td>Travelling</td>\n",
              "    </tr>\n",
              "    <tr>\n",
              "      <th>1178</th>\n",
              "      <td>R1192</td>\n",
              "      <td>Delhi-NCR</td>\n",
              "      <td>14</td>\n",
              "      <td>6.0</td>\n",
              "      <td>Average</td>\n",
              "      <td>Smartphone</td>\n",
              "      <td>4.0</td>\n",
              "      <td>1.0</td>\n",
              "      <td>9.0</td>\n",
              "      <td>1.0</td>\n",
              "      <td>Whatsapp</td>\n",
              "      <td>1</td>\n",
              "      <td>4</td>\n",
              "      <td>Remain Constant</td>\n",
              "      <td>NO</td>\n",
              "      <td>Listening to music</td>\n",
              "      <td>YES</td>\n",
              "      <td>YES</td>\n",
              "      <td>Friends , relatives</td>\n",
              "    </tr>\n",
              "    <tr>\n",
              "      <th>1179</th>\n",
              "      <td>R1193</td>\n",
              "      <td>Delhi-NCR</td>\n",
              "      <td>13</td>\n",
              "      <td>4.0</td>\n",
              "      <td>Average</td>\n",
              "      <td>Smartphone</td>\n",
              "      <td>0.0</td>\n",
              "      <td>0.5</td>\n",
              "      <td>8.0</td>\n",
              "      <td>3.0</td>\n",
              "      <td>Youtube</td>\n",
              "      <td>2</td>\n",
              "      <td>4</td>\n",
              "      <td>Decreased</td>\n",
              "      <td>NO</td>\n",
              "      <td>Online gaming</td>\n",
              "      <td>NO</td>\n",
              "      <td>YES</td>\n",
              "      <td>School/college</td>\n",
              "    </tr>\n",
              "    <tr>\n",
              "      <th>1180</th>\n",
              "      <td>R1194</td>\n",
              "      <td>Delhi-NCR</td>\n",
              "      <td>14</td>\n",
              "      <td>5.0</td>\n",
              "      <td>Excellent</td>\n",
              "      <td>Laptop/Desktop</td>\n",
              "      <td>3.5</td>\n",
              "      <td>1.0</td>\n",
              "      <td>8.0</td>\n",
              "      <td>0.5</td>\n",
              "      <td>Youtube</td>\n",
              "      <td>1</td>\n",
              "      <td>4</td>\n",
              "      <td>Remain Constant</td>\n",
              "      <td>NO</td>\n",
              "      <td>Reading books</td>\n",
              "      <td>YES</td>\n",
              "      <td>YES</td>\n",
              "      <td>School/college</td>\n",
              "    </tr>\n",
              "    <tr>\n",
              "      <th>1181</th>\n",
              "      <td>R1195</td>\n",
              "      <td>Delhi-NCR</td>\n",
              "      <td>13</td>\n",
              "      <td>5.0</td>\n",
              "      <td>Good</td>\n",
              "      <td>Tablet</td>\n",
              "      <td>2.0</td>\n",
              "      <td>0.5</td>\n",
              "      <td>7.0</td>\n",
              "      <td>1.0</td>\n",
              "      <td>Whatsapp</td>\n",
              "      <td>1</td>\n",
              "      <td>3</td>\n",
              "      <td>Remain Constant</td>\n",
              "      <td>NO</td>\n",
              "      <td>Talking</td>\n",
              "      <td>YES</td>\n",
              "      <td>YES</td>\n",
              "      <td>School/college</td>\n",
              "    </tr>\n",
              "  </tbody>\n",
              "</table>\n",
              "<p>1182 rows × 19 columns</p>\n",
              "</div>"
            ],
            "text/plain": [
              "         ID  ... What you miss the most\n",
              "0        R1  ...         School/college\n",
              "1        R2  ...  Roaming around freely\n",
              "2        R3  ...             Travelling\n",
              "3        R4  ...    Friends , relatives\n",
              "4        R5  ...             Travelling\n",
              "...     ...  ...                    ...\n",
              "1177  R1191  ...             Travelling\n",
              "1178  R1192  ...    Friends , relatives\n",
              "1179  R1193  ...         School/college\n",
              "1180  R1194  ...         School/college\n",
              "1181  R1195  ...         School/college\n",
              "\n",
              "[1182 rows x 19 columns]"
            ]
          },
          "metadata": {
            "tags": []
          },
          "execution_count": 7
        }
      ]
    },
    {
      "cell_type": "markdown",
      "metadata": {
        "id": "EQE-vV0PVGJd"
      },
      "source": [
        "# **TRANSFORMATION**"
      ]
    },
    {
      "cell_type": "code",
      "metadata": {
        "colab": {
          "base_uri": "https://localhost:8080/"
        },
        "id": "p6aSL0KOVI3p",
        "outputId": "d966172a-c3ff-484e-b65d-32e59d47f637"
      },
      "source": [
        "dataframe.dtypes"
      ],
      "execution_count": null,
      "outputs": [
        {
          "output_type": "execute_result",
          "data": {
            "text/plain": [
              "ID                                                                                     object\n",
              "Region of residence                                                                    object\n",
              "Age of Subject                                                                          int64\n",
              "Time spent on Online Class                                                            float64\n",
              "Rating of Online Class experience                                                      object\n",
              "Medium for online class                                                                object\n",
              "Time spent on self study                                                              float64\n",
              "Time spent on fitness                                                                 float64\n",
              "Time spent on sleep                                                                   float64\n",
              "Time spent on social media                                                            float64\n",
              "Prefered social media platform                                                         object\n",
              "Time spent on TV                                                                       object\n",
              "Number of meals per day                                                                 int64\n",
              "Change in your weight                                                                  object\n",
              "Health issue during lockdown                                                           object\n",
              "Stress busters                                                                         object\n",
              "Time utilized                                                                          object\n",
              "Do you find yourself more connected with your family, close friends , relatives  ?     object\n",
              "What you miss the most                                                                 object\n",
              "dtype: object"
            ]
          },
          "metadata": {
            "tags": []
          },
          "execution_count": 59
        }
      ]
    },
    {
      "cell_type": "code",
      "metadata": {
        "colab": {
          "base_uri": "https://localhost:8080/"
        },
        "id": "tlGUSjNRVUeO",
        "outputId": "9f89dc2a-a354-48c9-f2cb-326f0d5c919e"
      },
      "source": [
        "dataframe['Age of Subject'] = dataframe['Age of Subject'].astype(int)\n",
        "dataframe['Age of Subject']"
      ],
      "execution_count": null,
      "outputs": [
        {
          "output_type": "execute_result",
          "data": {
            "text/plain": [
              "0       21\n",
              "1       21\n",
              "2       20\n",
              "3       20\n",
              "4       21\n",
              "        ..\n",
              "1177    12\n",
              "1178    14\n",
              "1179    13\n",
              "1180    14\n",
              "1181    13\n",
              "Name: Age of Subject, Length: 1182, dtype: int64"
            ]
          },
          "metadata": {
            "tags": []
          },
          "execution_count": 8
        }
      ]
    },
    {
      "cell_type": "code",
      "metadata": {
        "id": "2LlrS2CDVmkR"
      },
      "source": [
        "dataframe['Region of residence'] = dataframe['Region of residence'].astype(str)\n",
        "dataframe['Region of residence']"
      ],
      "execution_count": null,
      "outputs": []
    },
    {
      "cell_type": "code",
      "metadata": {
        "colab": {
          "base_uri": "https://localhost:8080/"
        },
        "id": "NO5xg5jlV7S4",
        "outputId": "5e3721a3-9af7-4d20-ce23-f3ecce6112e3"
      },
      "source": [
        "dataframe.dtypes"
      ],
      "execution_count": null,
      "outputs": [
        {
          "output_type": "execute_result",
          "data": {
            "text/plain": [
              "ID                                                                                     object\n",
              "Region of residence                                                                    object\n",
              "Age of Subject                                                                          int64\n",
              "Time spent on Online Class                                                            float64\n",
              "Rating of Online Class experience                                                      object\n",
              "Medium for online class                                                                object\n",
              "Time spent on self study                                                              float64\n",
              "Time spent on fitness                                                                 float64\n",
              "Time spent on sleep                                                                   float64\n",
              "Time spent on social media                                                            float64\n",
              "Prefered social media platform                                                         object\n",
              "Time spent on TV                                                                       object\n",
              "Number of meals per day                                                                 int64\n",
              "Change in your weight                                                                  object\n",
              "Health issue during lockdown                                                           object\n",
              "Stress busters                                                                         object\n",
              "Time utilized                                                                          object\n",
              "Do you find yourself more connected with your family, close friends , relatives  ?     object\n",
              "What you miss the most                                                                 object\n",
              "dtype: object"
            ]
          },
          "metadata": {
            "tags": []
          },
          "execution_count": 64
        }
      ]
    },
    {
      "cell_type": "markdown",
      "metadata": {
        "id": "WMP_bL_NMbJ1"
      },
      "source": [
        "# **Value Count**"
      ]
    },
    {
      "cell_type": "code",
      "metadata": {
        "id": "uJQXlbPTMmG1",
        "colab": {
          "base_uri": "https://localhost:8080/",
          "height": 167
        },
        "outputId": "fa7ac96c-470f-4e56-88e3-4d43010fe115"
      },
      "source": [
        "dataframe['Age of Subject'].value_counts()"
      ],
      "execution_count": null,
      "outputs": [
        {
          "output_type": "error",
          "ename": "NameError",
          "evalue": "ignored",
          "traceback": [
            "\u001b[0;31m---------------------------------------------------------------------------\u001b[0m",
            "\u001b[0;31mNameError\u001b[0m                                 Traceback (most recent call last)",
            "\u001b[0;32m<ipython-input-1-1813bd7e8bd9>\u001b[0m in \u001b[0;36m<module>\u001b[0;34m()\u001b[0m\n\u001b[0;32m----> 1\u001b[0;31m \u001b[0mdataframe\u001b[0m\u001b[0;34m[\u001b[0m\u001b[0;34m'Age of Subject'\u001b[0m\u001b[0;34m]\u001b[0m\u001b[0;34m.\u001b[0m\u001b[0mvalue_counts\u001b[0m\u001b[0;34m(\u001b[0m\u001b[0;34m)\u001b[0m\u001b[0;34m\u001b[0m\u001b[0;34m\u001b[0m\u001b[0m\n\u001b[0m",
            "\u001b[0;31mNameError\u001b[0m: name 'dataframe' is not defined"
          ]
        }
      ]
    },
    {
      "cell_type": "code",
      "metadata": {
        "id": "xtPXle7uM5yK"
      },
      "source": [
        "dataframe['Time spent on Online Class'].value_counts()"
      ],
      "execution_count": null,
      "outputs": []
    },
    {
      "cell_type": "code",
      "metadata": {
        "id": "K1wwKzLgNKX9"
      },
      "source": [
        "dataframe['Time spent on sleep'].value_counts()"
      ],
      "execution_count": null,
      "outputs": []
    },
    {
      "cell_type": "code",
      "metadata": {
        "colab": {
          "base_uri": "https://localhost:8080/"
        },
        "id": "mD-AAkh0OMeB",
        "outputId": "4556436f-101c-42ec-a5ff-f5b09f8d02be"
      },
      "source": [
        "dataframe['Prefered social media platform'].value_counts()"
      ],
      "execution_count": null,
      "outputs": [
        {
          "output_type": "execute_result",
          "data": {
            "text/plain": [
              "Instagram    52\n",
              "Whatsapp     49\n",
              "Youtube      35\n",
              "Linkedin     14\n",
              "Twitter       4\n",
              "Telegram      2\n",
              "Elyment       1\n",
              "Snapchat      1\n",
              "Reddit        1\n",
              "Quora         1\n",
              "None          1\n",
              "Name: Prefered social media platform, dtype: int64"
            ]
          },
          "metadata": {
            "tags": []
          },
          "execution_count": 28
        }
      ]
    },
    {
      "cell_type": "code",
      "metadata": {
        "id": "2zTko7bMNdbs"
      },
      "source": [
        "dataframe = dataframe[dataframe['Health issue during lockdown'] != 'NO']\n",
        "dataframe"
      ],
      "execution_count": null,
      "outputs": []
    },
    {
      "cell_type": "code",
      "metadata": {
        "colab": {
          "base_uri": "https://localhost:8080/"
        },
        "id": "ftxOvIJJOmyp",
        "outputId": "d1c16a7f-4054-46d3-9903-c1923f08a681"
      },
      "source": [
        "dataframe.shape"
      ],
      "execution_count": null,
      "outputs": [
        {
          "output_type": "execute_result",
          "data": {
            "text/plain": [
              "(161, 19)"
            ]
          },
          "metadata": {
            "tags": []
          },
          "execution_count": 29
        }
      ]
    },
    {
      "cell_type": "markdown",
      "metadata": {
        "id": "C-Lts9cIOvIe"
      },
      "source": [
        "# **CENTRAL TENDENCY AND DISTRIBUTION OF RESPONSES/QUARTILE RANGES**"
      ]
    },
    {
      "cell_type": "code",
      "metadata": {
        "id": "O6xLn1RMOzWg"
      },
      "source": [
        "dataframe.describe()"
      ],
      "execution_count": null,
      "outputs": []
    },
    {
      "cell_type": "code",
      "metadata": {
        "id": "0MDgEWfrO6z_"
      },
      "source": [
        "Age = dataframe.groupby(['Age of Subject'])\n",
        "Age.mean()"
      ],
      "execution_count": null,
      "outputs": []
    },
    {
      "cell_type": "code",
      "metadata": {
        "id": "yNhsbTWcO7Dq"
      },
      "source": [
        "Age.describe()"
      ],
      "execution_count": null,
      "outputs": []
    },
    {
      "cell_type": "code",
      "metadata": {
        "id": "wmTg8PihO7Mr"
      },
      "source": [
        "dataframe.groupby(['Age of Subject'])['Time spent on social media'].describe()"
      ],
      "execution_count": null,
      "outputs": []
    },
    {
      "cell_type": "markdown",
      "metadata": {
        "id": "jx1Ltn0mSUDP"
      },
      "source": [
        "# **Visualizations**"
      ]
    },
    {
      "cell_type": "code",
      "metadata": {
        "colab": {
          "base_uri": "https://localhost:8080/",
          "height": 296
        },
        "id": "xUnK8wVPSYvl",
        "outputId": "1a3d07d7-71c9-45f6-a9a3-e4608f007c88"
      },
      "source": [
        "import seaborn as sns\n",
        "sns.boxplot(x=dataframe['Age of Subject'])"
      ],
      "execution_count": null,
      "outputs": [
        {
          "output_type": "execute_result",
          "data": {
            "text/plain": [
              "<matplotlib.axes._subplots.AxesSubplot at 0x7fe548ab5690>"
            ]
          },
          "metadata": {
            "tags": []
          },
          "execution_count": 10
        },
        {
          "output_type": "display_data",
          "data": {
            "image/png": "[encoded data removed]",
            "text/plain": [
              "<Figure size 432x288 with 1 Axes>"
            ]
          },
          "metadata": {
            "tags": [],
            "needs_background": "light"
          }
        }
      ]
    },
    {
      "cell_type": "markdown",
      "metadata": {
        "id": "w9mYbp7kLs8w"
      },
      "source": [
        ""
      ]
    },
    {
      "cell_type": "code",
      "metadata": {
        "colab": {
          "base_uri": "https://localhost:8080/",
          "height": 296
        },
        "id": "FgLp5EyBQTQh",
        "outputId": "4514afa1-5555-48b2-986c-7c1b55f95748"
      },
      "source": [
        "sns.boxenplot(x=dataframe['Time spent on Online Class'])"
      ],
      "execution_count": null,
      "outputs": [
        {
          "output_type": "execute_result",
          "data": {
            "text/plain": [
              "<matplotlib.axes._subplots.AxesSubplot at 0x7fe548ab5190>"
            ]
          },
          "metadata": {
            "tags": []
          },
          "execution_count": 11
        },
        {
          "output_type": "display_data",
          "data": {
            "image/png": "[encoded data removed]",
            "text/plain": [
              "<Figure size 432x288 with 1 Axes>"
            ]
          },
          "metadata": {
            "tags": [],
            "needs_background": "light"
          }
        }
      ]
    },
    {
      "cell_type": "code",
      "metadata": {
        "colab": {
          "base_uri": "https://localhost:8080/",
          "height": 542
        },
        "id": "sKzKmgOeQwk4",
        "outputId": "3bdc87f8-7db8-44d9-e413-5a11e23dad80"
      },
      "source": [
        "fig = px.scatter_3d(dataframe, x='Age of Subject', y='Time spent on Online Class', z='Medium for online class',\n",
        "              color='Health issue during lockdown')\n",
        "fig.show()"
      ],
      "execution_count": null,
      "outputs": [
        {
          "output_type": "display_data",
          "data": {
            "text/html": [
              "<html>\n",
              "<head><meta charset=\"utf-8\" /></head>\n",
              "<body>\n",
              "    <div>\n",
              "            <script src=\"https://cdnjs.cloudflare.com/ajax/libs/mathjax/2.7.5/MathJax.js?config=TeX-AMS-MML_SVG\"></script><script type=\"text/javascript\">if (window.MathJax) {MathJax.Hub.Config({SVG: {font: \"STIX-Web\"}});}</script>\n",
              "                <script type=\"text/javascript\">window.PlotlyConfig = {MathJaxConfig: 'local'};</script>\n",
              "        <script src=\"https://cdn.plot.ly/plotly-latest.min.js\"></script>    \n",
              "            <div id=\"16d28e6b-a235-44ab-b9a3-7bb1219a300f\" class=\"plotly-graph-div\" style=\"height:525px; width:100%;\"></div>\n",
              "            <script type=\"text/javascript\">\n",
              "                \n",
              "                    window.PLOTLYENV=window.PLOTLYENV || {};\n",
              "                    \n",
              "                if (document.getElementById(\"16d28e6b-a235-44ab-b9a3-7bb1219a300f\")) {\n",
              "                    Plotly.newPlot(\n",
              "                        '16d28e6b-a235-44ab-b9a3-7bb1219a300f',\n",
              "                        [{\"hoverlabel\": {\"namelength\": 0}, \"hovertemplate\": \"Health issue during lockdown=NO<br>Age of Subject=%{x}<br>Time spent on Online Class=%{y}<br>Medium for online class=%{z}\", \"legendgroup\": \"Health issue during lockdown=NO\", \"marker\": {\"color\": \"#636efa\", \"symbol\": \"circle\"}, \"mode\": \"markers\", \"name\": \"Health issue during lockdown=NO\", \"scene\": \"scene\", \"showlegend\": true, \"type\": \"scatter3d\", \"x\": [21, 21, 20, 20, 21, 19, 21, 21, 22, 20, 22, 20, 20, 21, 22, 20, 21, 21, 21, 20, 20, 20, 31, 22, 23, 21, 20, 21, 17, 20, 22, 20, 24, 21, 21, 18, 22, 20, 21, 18, 20, 21, 19, 21, 19, 18, 21, 22, 20, 18, 20, 23, 20, 19, 18, 19, 20, 22, 20, 19, 18, 19, 20, 20, 19, 21, 19, 20, 21, 19, 21, 19, 19, 20, 20, 19, 19, 22, 21, 16, 21, 16, 21, 23, 19, 20, 18, 10, 20, 19, 14, 18, 18, 24, 14, 21, 19, 18, 23, 21, 18, 20, 20, 19, 15, 19, 20, 17, 18, 20, 18, 22, 18, 15, 22, 19, 20, 20, 18, 19, 14, 20, 19, 18, 21, 15, 20, 20, 21, 21, 20, 23, 23, 22, 21, 20, 15, 16, 22, 20, 34, 22, 22, 21, 20, 21, 22, 14, 22, 19, 21, 15, 21, 34, 22, 21, 20, 20, 25, 19, 26, 20, 24, 21, 20, 16, 17, 59, 17, 16, 20, 17, 17, 17, 20, 16, 20, 22, 17, 23, 22, 19, 23, 32, 17, 21, 22, 17, 17, 18, 20, 30, 19, 14, 19, 17, 20, 17, 20, 17, 21, 16, 21, 18, 20, 14, 19, 18, 13, 20, 19, 15, 19, 20, 20, 16, 21, 17, 21, 20, 21, 20, 16, 19, 20, 19, 17, 21, 17, 25, 19, 16, 17, 18, 20, 20, 20, 22, 16, 19, 17, 21, 19, 17, 25, 20, 21, 19, 23, 22, 22, 18, 21, 24, 14, 16, 17, 16, 29, 26, 21, 18, 19, 21, 12, 26, 20, 16, 21, 21, 20, 21, 19, 14, 19, 18, 16, 43, 15, 32, 15, 22, 16, 21, 14, 19, 18, 11, 24, 21, 15, 34, 12, 16, 17, 14, 16, 13, 23, 21, 31, 23, 13, 17, 23, 13, 20, 13, 40, 12, 12, 21, 42, 28, 40, 14, 12, 14, 22, 40, 21, 23, 12, 17, 18, 20, 17, 20, 20, 19, 20, 16, 13, 14, 17, 20, 17, 13, 20, 27, 20, 20, 17, 14, 9, 14, 36, 8, 20, 12, 19, 24, 20, 22, 20, 12, 20, 32, 28, 21, 15, 19, 19, 18, 14, 18, 50, 20, 20, 21, 14, 22, 13, 13, 16, 35, 45, 16, 20, 21, 23, 21, 20, 19, 18, 30, 21, 13, 22, 21, 21, 20, 20, 20, 19, 19, 7, 21, 23, 20, 20, 19, 20, 21, 21, 19, 19, 21, 24, 20, 20, 24, 21, 20, 22, 20, 19, 22, 21, 19, 13, 10, 21, 20, 22, 20, 20, 20, 21, 19, 13, 20, 17, 11, 17, 17, 19, 20, 18, 20, 19, 17, 34, 15, 24, 17, 26, 20, 22, 20, 21, 14, 20, 19, 44, 20, 22, 21, 20, 18, 15, 19, 24, 16, 17, 15, 16, 21, 13, 15, 21, 13, 21, 21, 17, 20, 18, 21, 20, 21, 32, 19, 18, 23, 19, 19, 23, 25, 22, 12, 8, 17, 21, 14, 20, 22, 13, 21, 36, 13, 24, 46, 16, 25, 17, 16, 20, 14, 18, 52, 21, 22, 19, 14, 17, 21, 22, 15, 25, 17, 25, 20, 21, 32, 34, 22, 17, 30, 21, 28, 21, 15, 16, 40, 43, 25, 24, 16, 16, 34, 28, 17, 18, 17, 30, 19, 21, 20, 19, 19, 19, 19, 21, 20, 20, 20, 20, 22, 21, 30, 21, 22, 21, 21, 19, 20, 21, 21, 21, 22, 20, 20, 18, 19, 21, 22, 21, 20, 20, 21, 22, 20, 20, 21, 19, 22, 19, 22, 19, 18, 20, 19, 19, 18, 17, 18, 22, 21, 17, 19, 20, 17, 21, 19, 21, 19, 38, 19, 17, 18, 23, 29, 20, 22, 18, 15, 19, 20, 21, 21, 20, 19, 28, 19, 21, 23, 20, 22, 20, 22, 20, 23, 21, 19, 23, 20, 22, 21, 21, 22, 18, 21, 20, 21, 21, 19, 23, 21, 40, 20, 40, 19, 18, 23, 21, 12, 20, 22, 30, 21, 20, 40, 24, 18, 22, 35, 40, 18, 19, 35, 16, 30, 19, 37, 21, 20, 24, 40, 20, 23, 26, 20, 14, 20, 22, 40, 21, 21, 34, 40, 22, 21, 18, 22, 22, 21, 20, 20, 21, 20, 21, 21, 40, 20, 22, 19, 22, 20, 36, 23, 32, 24, 20, 22, 20, 21, 38, 20, 21, 20, 20, 22, 21, 21, 21, 21, 21, 20, 20, 21, 20, 37, 22, 33, 20, 19, 20, 21, 17, 20, 19, 21, 20, 36, 20, 31, 22, 22, 28, 16, 19, 20, 14, 21, 34, 19, 19, 21, 23, 19, 27, 21, 21, 23, 20, 29, 20, 21, 21, 19, 19, 39, 20, 19, 23, 21, 10, 14, 9, 22, 13, 23, 13, 21, 34, 14, 32, 21, 19, 22, 26, 21, 40, 15, 16, 20, 22, 22, 23, 17, 24, 23, 21, 14, 14, 23, 21, 33, 11, 20, 23, 20, 18, 38, 20, 21, 11, 22, 23, 23, 19, 20, 19, 20, 19, 17, 20, 20, 27, 18, 18, 19, 18, 20, 19, 19, 18, 18, 26, 18, 18, 21, 23, 22, 19, 19, 18, 12, 18, 19, 19, 26, 20, 26, 19, 22, 23, 20, 29, 28, 21, 24, 32, 35, 27, 36, 20, 16, 38, 24, 25, 20, 23, 24, 20, 20, 18, 20, 21, 20, 20, 22, 22, 21, 18, 20, 20, 18, 31, 18, 23, 20, 24, 17, 15, 17, 16, 15, 16, 16, 15, 16, 16, 16, 30, 16, 15, 16, 15, 15, 15, 16, 15, 16, 15, 16, 15, 16, 16, 16, 16, 16, 17, 16, 16, 15, 17, 16, 16, 16, 15, 16, 17, 25, 20, 16, 16, 15, 16, 24, 16, 16, 16, 15, 17, 16, 12, 14, 13, 12, 15, 13, 12, 13, 16, 14, 13, 13, 14, 14, 14, 14, 14, 13, 18, 13, 14, 13, 13, 12, 11, 12, 13, 14, 16, 10, 13, 12, 15, 14, 13, 15, 17, 22, 13, 11, 13, 14, 12, 13, 12, 12, 13, 14, 14, 12, 14, 14, 12, 14, 13, 12, 13, 12, 13, 12, 12, 13, 16, 13, 13, 15, 12, 13, 15, 13, 12, 14, 13, 14, 13], \"y\": [2.0, 0.0, 7.0, 3.0, 3.0, 2.0, 3.0, 3.0, 1.0, 5.0, 3.0, 0.0, 1.0, 0.0, 5.0, 4.0, 5.0, 4.0, 4.0, 3.0, 5.0, 3.0, 8.0, 4.0, 4.0, 0.0, 0.0, 6.0, 4.0, 4.0, 1.0, 0.0, 4.0, 0.0, 5.0, 2.0, 3.0, 2.0, 3.0, 4.0, 5.0, 3.0, 0.0, 4.0, 2.0, 1.0, 0.0, 6.0, 3.0, 0.0, 2.0, 2.0, 4.0, 0.0, 3.0, 2.0, 2.0, 6.0, 2.0, 1.0, 3.0, 0.0, 3.0, 3.0, 1.0, 3.0, 2.0, 0.0, 1.0, 2.0, 4.0, 4.0, 0.0, 4.0, 2.0, 5.0, 3.0, 2.0, 1.0, 6.0, 3.0, 3.0, 2.0, 4.0, 2.0, 1.0, 2.0, 3.0, 0.0, 1.0, 5.0, 2.0, 3.0, 4.0, 3.0, 4.0, 2.0, 2.5, 6.0, 4.0, 5.0, 5.0, 2.0, 2.0, 1.0, 0.0, 3.0, 6.0, 2.0, 2.0, 5.0, 0.1, 3.0, 4.0, 1.0, 3.0, 3.0, 1.0, 2.0, 2.0, 4.0, 3.0, 1.0, 2.0, 4.0, 4.0, 5.0, 3.0, 5.0, 4.0, 4.0, 0.0, 3.0, 4.0, 0.0, 0.0, 4.0, 4.0, 1.0, 5.0, 3.0, 0.0, 6.0, 1.0, 1.0, 3.0, 1.0, 4.0, 2.0, 2.0, 1.0, 5.0, 3.0, 3.0, 3.0, 4.0, 3.0, 3.0, 2.0, 0.5, 5.0, 3.0, 7.0, 0.0, 5.0, 7.0, 6.0, 3.0, 7.0, 6.0, 3.0, 6.0, 6.0, 6.0, 4.0, 8.0, 0.0, 4.0, 9.0, 1.0, 1.5, 2.0, 1.0, 4.0, 6.0, 0.0, 4.0, 6.0, 5.0, 2.0, 5.0, 3.0, 1.0, 3.0, 0.0, 6.0, 1.0, 4.0, 6.0, 5.0, 3.0, 4.0, 5.0, 0.0, 4.0, 4.0, 3.0, 0.0, 5.0, 4.0, 0.0, 5.0, 0.0, 4.0, 4.0, 6.0, 2.0, 5.5, 0.0, 0.0, 4.0, 3.0, 4.0, 1.0, 2.0, 2.0, 7.0, 0.0, 6.0, 5.0, 3.0, 5.0, 7.0, 1.0, 5.0, 3.0, 1.0, 3.0, 7.0, 2.0, 9.0, 0.0, 2.0, 8.0, 1.0, 3.0, 0.0, 5.0, 5.0, 2.0, 4.0, 0.0, 3.0, 3.0, 3.0, 4.0, 2.0, 4.0, 8.0, 1.0, 5.0, 0.0, 3.0, 2.0, 1.0, 0.0, 6.0, 4.0, 0.0, 5.0, 6.0, 2.0, 1.0, 5.0, 2.0, 4.0, 8.0, 2.0, 4.0, 1.0, 3.0, 0.0, 4.0, 2.0, 5.0, 2.0, 1.5, 4.0, 0.5, 3.0, 5.0, 2.0, 1.0, 1.0, 7.0, 2.5, 4.0, 2.0, 0.0, 6.0, 4.0, 5.0, 1.0, 6.0, 3.0, 1.0, 1.0, 0.5, 1.0, 1.0, 1.0, 3.0, 4.0, 0.0, 2.0, 3.0, 1.0, 4.0, 0.0, 4.0, 4.0, 3.0, 2.0, 2.0, 1.0, 1.0, 5.0, 1.0, 3.0, 0.75, 4.0, 2.0, 3.0, 3.0, 2.0, 1.0, 7.0, 1.0, 2.0, 0.0, 1.0, 5.0, 4.0, 1.0, 1.0, 5.0, 2.0, 2.0, 2.0, 2.0, 8.0, 0.0, 2.0, 1.0, 3.0, 1.0, 2.0, 1.0, 4.0, 2.0, 5.0, 1.0, 3.0, 3.0, 7.0, 1.0, 2.0, 0.7, 3.0, 0.0, 3.0, 3.0, 0.75, 3.0, 6.0, 4.0, 3.0, 0.0, 4.0, 0.0, 6.0, 2.0, 7.0, 0.0, 4.0, 0.0, 2.0, 4.0, 1.0, 1.0, 2.0, 5.0, 0.0, 4.0, 4.0, 0.0, 2.0, 2.0, 4.0, 5.0, 4.0, 4.0, 4.0, 4.0, 6.0, 2.0, 0.0, 3.0, 2.0, 4.0, 2.0, 5.0, 5.0, 3.0, 5.0, 7.0, 0.0, 0.5, 4.0, 3.0, 3.0, 4.0, 4.0, 2.0, 1.0, 4.0, 0.0, 0.0, 0.0, 4.0, 2.0, 2.0, 2.0, 1.0, 2.0, 1.0, 4.0, 6.0, 3.0, 4.0, 0.0, 3.0, 2.0, 4.0, 0.0, 6.0, 2.0, 0.0, 3.0, 6.0, 4.0, 3.0, 5.0, 2.0, 3.0, 1.0, 3.0, 1.0, 5.0, 4.0, 1.0, 2.0, 2.0, 7.0, 4.0, 5.0, 2.0, 6.0, 2.0, 4.0, 0.0, 1.0, 3.0, 3.0, 2.0, 1.0, 3.0, 4.0, 8.0, 8.0, 2.0, 4.0, 2.0, 0.0, 2.0, 2.0, 4.0, 0.0, 4.0, 6.0, 2.0, 0.75, 3.0, 3.0, 4.0, 0.0, 6.0, 2.0, 3.0, 4.0, 2.0, 2.0, 5.0, 2.0, 4.0, 1.0, 3.0, 5.0, 4.0, 0.0, 4.0, 1.0, 0.0, 4.0, 2.0, 2.0, 2.0, 3.0, 6.0, 2.0, 1.0, 1.0, 2.0, 6.0, 2.0, 0.0, 1.0, 4.0, 2.0, 3.0, 4.0, 2.0, 1.0, 3.0, 2.0, 1.0, 0.0, 2.0, 0.8, 2.0, 2.0, 0.75, 0.75, 0.75, 4.0, 4.0, 0.0, 4.0, 5.0, 3.0, 0.0, 4.0, 6.0, 4.0, 4.0, 5.0, 5.0, 3.0, 1.0, 2.0, 2.0, 3.0, 4.0, 5.0, 5.0, 6.0, 3.0, 3.0, 0.0, 0.0, 0.0, 3.0, 2.0, 0.0, 3.0, 3.0, 7.0, 0.0, 4.0, 4.0, 0.0, 4.0, 6.0, 3.0, 1.0, 0.0, 1.0, 2.0, 2.0, 3.0, 2.0, 2.0, 0.0, 0.0, 7.0, 7.0, 2.0, 4.0, 3.0, 0.0, 5.0, 4.0, 3.0, 2.0, 3.0, 2.0, 4.0, 3.0, 2.0, 3.0, 0.0, 2.0, 0.0, 1.0, 2.0, 4.0, 4.0, 2.0, 1.0, 4.0, 2.0, 0.0, 3.0, 6.0, 2.0, 0.0, 3.0, 4.0, 2.0, 0.0, 5.0, 3.0, 2.0, 3.0, 3.0, 4.0, 2.0, 5.0, 1.0, 5.0, 4.0, 1.0, 4.0, 0.5, 1.0, 4.0, 5.5, 0.0, 6.0, 4.0, 5.0, 3.0, 2.0, 3.0, 7.0, 5.0, 0.5, 0.0, 4.0, 5.0, 1.0, 1.0, 5.0, 4.0, 1.0, 3.0, 2.0, 0.0, 4.0, 4.0, 5.0, 1.0, 4.0, 4.0, 3.0, 3.0, 0.0, 0.0, 2.0, 3.0, 3.0, 5.0, 5.0, 0.0, 0.0, 5.0, 3.0, 5.0, 2.0, 1.0, 3.0, 2.0, 2.0, 2.0, 3.0, 2.0, 4.0, 4.0, 3.0, 4.0, 4.0, 3.0, 6.0, 2.0, 4.0, 5.0, 3.0, 6.0, 4.0, 4.0, 2.0, 2.0, 5.0, 2.0, 5.0, 4.0, 4.0, 2.0, 2.0, 8.0, 4.0, 5.0, 3.0, 3.0, 4.0, 4.0, 4.0, 5.0, 4.0, 3.0, 6.0, 2.0, 5.0, 4.0, 4.0, 2.0, 4.0, 3.0, 7.0, 7.0, 10.0, 5.0, 8.0, 5.0, 4.0, 4.0, 6.0, 5.0, 3.0, 5.0, 4.0, 6.0, 2.0, 3.0, 1.0, 5.0, 8.0, 7.0, 4.0, 5.0, 1.0, 5.0, 2.0, 0.0, 5.0, 10.0, 4.0, 1.0, 6.0, 7.0, 5.0, 2.0, 3.0, 5.0, 2.0, 5.0, 5.0, 5.0, 5.0, 4.0, 4.0, 2.0, 5.0, 1.0, 3.0, 9.0, 2.0, 3.0, 3.0, 1.0, 9.0, 2.0, 5.0, 2.0, 3.0, 4.0, 2.0, 4.0, 2.0, 3.0, 0.0, 10.0, 6.0, 6.0, 3.0, 2.0, 0.0, 2.0, 4.0, 3.0, 2.0, 0.0, 0.0, 2.0, 5.0, 0.0, 2.0, 0.0, 0.0, 2.0, 3.0, 4.0, 1.0, 4.0, 2.0, 4.0, 10.0, 4.0, 4.0, 7.0, 8.0, 6.0, 5.0, 4.0, 6.0, 6.0, 8.0, 4.0, 1.0, 8.0, 5.0, 2.0, 2.0, 4.0, 8.0, 6.0, 6.0, 0.0, 5.0, 4.0, 6.0, 4.0, 3.0, 4.0, 4.0, 0.0, 3.0, 2.0, 5.0, 5.0, 0.0, 1.0, 4.0, 1.0, 0.0, 3.0, 6.0, 4.0, 2.0, 2.0, 0.0, 2.0, 4.0, 2.0, 0.0, 5.0, 4.0, 5.0, 6.0, 2.0, 2.0, 2.0, 2.0, 0.0, 2.0, 3.0, 3.0, 0.0, 8.0, 6.0, 2.0, 3.0, 2.0, 5.0, 4.0, 4.0, 4.0, 8.0, 8.0, 5.0, 7.0, 5.0, 4.0, 7.0, 2.0, 5.0, 5.0, 4.0, 4.0, 4.0, 8.0, 7.0, 3.0, 7.0, 4.0, 8.0, 5.0, 8.0, 8.0, 4.0, 7.0, 6.0, 6.0, 8.0, 4.0, 9.0, 3.0, 6.0, 8.0, 8.0, 5.0, 4.0, 4.0, 5.0, 0.0, 5.0, 4.0, 5.0, 4.0, 6.0, 5.0, 5.0, 5.0, 6.0, 2.0, 5.0, 5.0, 4.0, 4.0, 5.0, 6.0, 5.0, 4.0, 6.0, 4.0, 4.0, 8.0, 6.0, 6.0, 4.0, 6.0, 6.0, 4.0, 5.0, 7.0, 3.0, 6.0, 3.0, 4.0, 5.5, 4.0, 6.0, 2.0, 6.0, 4.0, 4.0, 5.0, 4.0, 8.0, 3.0, 4.0, 4.0, 6.0, 5.0, 6.0, 5.0, 4.0, 5.0, 6.0, 4.0, 4.0, 5.0, 6.0, 6.0, 6.0, 6.0, 6.0, 3.0, 4.0, 4.0, 6.0, 5.0, 5.0, 4.0, 6.0, 6.0, 5.0, 6.0, 7.5, 5.0, 4.0, 5.0, 6.0, 8.0, 5.0, 3.0, 3.0, 6.0, 4.0, 5.0, 5.0], \"z\": [\"Laptop/Desktop\", \"Smartphone\", \"Laptop/Desktop\", \"Smartphone\", \"Laptop/Desktop\", \"Smartphone\", \"Laptop/Desktop\", \"Laptop/Desktop\", \"Laptop/Desktop\", \"Laptop/Desktop\", \"Smartphone\", \"Smartphone\", \"Smartphone\", \"Laptop/Desktop\", \"Smartphone\", \"Laptop/Desktop\", \"Laptop/Desktop\", \"Smartphone\", \"Laptop/Desktop\", \"Smartphone\", \"Smartphone\", \"Laptop/Desktop\", \"Laptop/Desktop\", \"Smartphone\", \"Laptop/Desktop\", \"NA\", \"NA\", \"Smartphone\", \"Laptop/Desktop\", \"Laptop/Desktop\", \"Smartphone\", \"NA\", \"Laptop/Desktop\", \"Laptop/Desktop\", \"Laptop/Desktop\", \"Smartphone\", \"Laptop/Desktop\", \"Smartphone\", \"Laptop/Desktop\", \"Laptop/Desktop\", \"Laptop/Desktop\", \"Laptop/Desktop\", \"Smartphone\", \"Smartphone\", \"Smartphone\", \"Smartphone\", \"Smartphone\", \"Laptop/Desktop\", \"Laptop/Desktop\", \"Laptop/Desktop\", \"Laptop/Desktop\", \"Smartphone\", \"Smartphone\", \"NA\", \"Smartphone\", \"Tablet\", \"Smartphone\", \"Smartphone\", \"Smartphone\", \"Laptop/Desktop\", \"Smartphone\", \"Smartphone\", \"Laptop/Desktop\", \"Laptop/Desktop\", \"Laptop/Desktop\", \"Smartphone\", \"Smartphone\", \"Laptop/Desktop\", \"Smartphone\", \"Tablet\", \"Smartphone\", \"Smartphone\", \"Smartphone\", \"Smartphone\", \"Smartphone\", \"Tablet\", \"Smartphone\", \"Smartphone\", \"Smartphone\", \"Smartphone\", \"Laptop/Desktop\", \"Smartphone\", \"Smartphone\", \"Laptop/Desktop\", \"Smartphone\", \"Smartphone\", \"Smartphone\", \"Tablet\", \"Smartphone\", \"Smartphone\", \"Laptop/Desktop\", \"Smartphone\", \"Smartphone\", \"Laptop/Desktop\", \"Smartphone\", \"Laptop/Desktop\", \"Smartphone\", \"Smartphone\", \"Laptop/Desktop\", \"Smartphone\", \"Smartphone\", \"Smartphone\", \"Smartphone\", \"Smartphone\", \"Smartphone\", \"NA\", \"Smartphone\", \"Laptop/Desktop\", \"Smartphone\", \"Smartphone\", \"Smartphone\", \"Smartphone\", \"Smartphone\", \"Smartphone\", \"Laptop/Desktop\", \"Laptop/Desktop\", \"Smartphone\", \"Smartphone\", \"Smartphone\", \"Smartphone\", \"Smartphone\", \"Laptop/Desktop\", \"Laptop/Desktop\", \"Smartphone\", \"Smartphone\", \"Smartphone\", \"Tablet\", \"Laptop/Desktop\", \"Smartphone\", \"Laptop/Desktop\", \"Laptop/Desktop\", \"Laptop/Desktop\", \"Tablet\", \"Smartphone\", \"Smartphone\", \"Smartphone\", \"Smartphone\", \"Laptop/Desktop\", \"Smartphone\", \"Laptop/Desktop\", \"Laptop/Desktop\", \"Laptop/Desktop\", \"Laptop/Desktop\", \"Laptop/Desktop\", \"Smartphone\", \"Smartphone\", \"Smartphone\", \"Smartphone\", \"Laptop/Desktop\", \"Smartphone\", \"Smartphone\", \"Smartphone\", \"Laptop/Desktop\", \"Laptop/Desktop\", \"Laptop/Desktop\", \"Laptop/Desktop\", \"Laptop/Desktop\", \"Laptop/Desktop\", \"Laptop/Desktop\", \"Smartphone\", \"Laptop/Desktop\", \"Laptop/Desktop\", \"Laptop/Desktop\", \"Laptop/Desktop\", \"Smartphone\", \"Tablet\", \"Laptop/Desktop\", \"Smartphone\", \"Smartphone\", \"Smartphone\", \"Laptop/Desktop\", \"Smartphone\", \"Laptop/Desktop\", \"Tablet\", \"Smartphone\", \"Laptop/Desktop\", \"Laptop/Desktop\", \"Laptop/Desktop\", \"Laptop/Desktop\", \"Smartphone\", \"Laptop/Desktop\", \"Smartphone\", \"Laptop/Desktop\", \"Laptop/Desktop\", \"Smartphone\", \"NA\", \"Laptop/Desktop\", \"Any Gadget\", \"Laptop/Desktop\", \"Smartphone\", \"Laptop/Desktop\", \"Smartphone\", \"Laptop/Desktop\", \"Laptop/Desktop\", \"NA\", \"Smartphone\", \"Tablet\", \"Smartphone\", \"Any Gadget\", \"Smartphone\", \"Laptop/Desktop\", \"Laptop/Desktop\", \"Smartphone\", \"NA\", \"Laptop/Desktop\", \"Smartphone\", \"Laptop/Desktop\", \"Laptop/Desktop\", \"Laptop/Desktop\", \"Laptop/Desktop\", \"Laptop/Desktop\", \"Smartphone\", \"Laptop/Desktop\", \"Laptop/Desktop\", \"Laptop/Desktop\", \"Laptop/Desktop\", \"Laptop/Desktop\", \"Smartphone\", \"Laptop/Desktop\", \"Smartphone\", \"Laptop/Desktop\", \"Smartphone\", \"Smartphone or Laptop/Desktop\", \"Laptop/Desktop\", \"Laptop/Desktop\", \"Smartphone\", \"Laptop/Desktop\", \"Laptop/Desktop\", \"Smartphone\", \"Laptop/Desktop\", \"Laptop/Desktop\", \"Smartphone\", \"Smartphone\", \"Smartphone\", \"Laptop/Desktop\", \"Laptop/Desktop\", \"Laptop/Desktop\", \"Smartphone\", \"Tablet\", \"Laptop/Desktop\", \"Laptop/Desktop\", \"Laptop/Desktop\", \"Laptop/Desktop\", \"Smartphone\", \"Laptop/Desktop\", \"Smartphone\", \"NA\", \"Smartphone\", \"Smartphone\", \"Laptop/Desktop\", \"Laptop/Desktop\", \"NA\", \"Laptop/Desktop\", \"Laptop/Desktop\", \"Tablet\", \"Smartphone\", \"Laptop/Desktop\", \"Smartphone\", \"Laptop/Desktop\", \"Laptop/Desktop\", \"Smartphone\", \"Smartphone\", \"Smartphone\", \"Laptop/Desktop\", \"Laptop/Desktop\", \"Smartphone\", \"Laptop/Desktop\", \"Smartphone\", \"Laptop/Desktop\", \"Laptop/Desktop\", \"Laptop/Desktop\", \"Smartphone\", \"Laptop/Desktop\", \"Smartphone\", \"Smartphone\", \"Smartphone\", \"Laptop/Desktop\", \"Smartphone\", \"Tablet\", \"Laptop/Desktop\", \"Laptop/Desktop\", \"NA\", \"NA\", \"NA\", \"NA\", \"NA\", \"NA\", \"NA\", \"NA\", \"Laptop/Desktop\", \"Smartphone\", \"Laptop/Desktop\", \"Smartphone\", \"Smartphone\", \"Laptop/Desktop\", \"Smartphone\", \"Smartphone\", \"Smartphone\", \"Laptop/Desktop\", \"Smartphone\", \"Laptop/Desktop\", \"Smartphone\", \"Smartphone\", \"Laptop/Desktop\", \"Laptop/Desktop\", \"Smartphone\", \"Laptop/Desktop\", \"Smartphone\", \"Laptop/Desktop\", \"Smartphone\", \"Smartphone\", \"Laptop/Desktop\", \"Laptop/Desktop\", \"NA\", \"NA\", \"NA\", \"NA\", \"NA\", \"NA\", \"NA\", \"NA\", \"Smartphone\", \"Smartphone\", \"Smartphone\", \"Laptop/Desktop\", \"Laptop/Desktop\", \"Smartphone\", \"Laptop/Desktop\", \"Laptop/Desktop\", \"Laptop/Desktop\", \"Laptop/Desktop\", \"Smartphone\", \"Smartphone\", \"Smartphone\", \"Smartphone\", \"Laptop/Desktop\", \"Smartphone\", \"Smartphone\", \"Laptop/Desktop\", \"Laptop/Desktop\", \"Laptop/Desktop\", \"Laptop/Desktop\", \"Smartphone\", \"Smartphone\", \"Laptop/Desktop\", \"Smartphone\", \"Tablet\", \"Laptop/Desktop\", \"Laptop/Desktop\", \"Laptop/Desktop\", \"Laptop/Desktop\", \"Laptop/Desktop\", \"Laptop/Desktop\", \"Smartphone\", \"Laptop/Desktop\", \"Smartphone\", \"Laptop/Desktop\", \"Smartphone\", \"Laptop/Desktop\", \"Laptop/Desktop\", \"Laptop/Desktop\", \"Laptop/Desktop\", \"Laptop/Desktop\", \"Smartphone\", \"Tablet\", \"Smartphone\", \"Smartphone\", \"Laptop/Desktop\", \"Laptop/Desktop\", \"Laptop/Desktop\", \"Laptop/Desktop\", \"Laptop/Desktop\", \"Smartphone\", \"Smartphone\", \"Smartphone\", \"Smartphone\", \"Laptop/Desktop\", \"Smartphone\", \"Laptop/Desktop\", \"Laptop/Desktop\", \"Laptop/Desktop\", \"Laptop/Desktop\", \"Laptop/Desktop\", \"Smartphone\", \"Smartphone\", \"NA\", \"NA\", \"NA\", \"NA\", \"NA\", \"NA\", \"Laptop/Desktop\", \"Laptop/Desktop\", \"Laptop/Desktop\", \"Laptop/Desktop\", \"Laptop/Desktop\", \"Smartphone\", \"Laptop/Desktop\", \"Laptop/Desktop\", \"Laptop/Desktop\", \"Smartphone\", \"Laptop/Desktop\", \"Laptop/Desktop\", \"Tablet\", \"Laptop/Desktop\", \"Laptop/Desktop\", \"Laptop/Desktop\", \"Laptop/Desktop\", \"Smartphone\", \"Laptop/Desktop\", \"Smartphone\", \"Laptop/Desktop\", \"Laptop/Desktop\", \"Laptop/Desktop\", \"Smartphone\", \"Laptop/Desktop\", \"NA\", \"Laptop/Desktop\", \"Laptop/Desktop\", \"Laptop/Desktop\", \"Smartphone\", \"Smartphone\", \"Laptop/Desktop\", \"Laptop/Desktop\", \"Smartphone\", \"Laptop/Desktop\", \"Laptop/Desktop\", \"Laptop/Desktop\", \"Smartphone\", \"Laptop/Desktop\", \"Smartphone\", \"Laptop/Desktop\", \"Smartphone\", \"Laptop/Desktop\", \"Smartphone\", \"Smartphone\", \"Laptop/Desktop\", \"Laptop/Desktop\", \"Laptop/Desktop\", \"Laptop/Desktop\", \"Laptop/Desktop\", \"Smartphone\", \"Laptop/Desktop\", \"Smartphone\", \"NA\", \"Smartphone\", \"Laptop/Desktop\", \"Laptop/Desktop\", \"Laptop/Desktop\", \"Laptop/Desktop\", \"Laptop/Desktop\", \"Smartphone or Laptop/Desktop\", \"Laptop/Desktop\", \"Smartphone\", \"Smartphone\", \"Tablet\", \"Laptop/Desktop\", \"Smartphone\", \"Laptop/Desktop\", \"Tablet\", \"Smartphone\", \"Smartphone\", \"Smartphone\", \"Smartphone\", \"Smartphone\", \"Smartphone\", \"Smartphone\", \"Laptop/Desktop\", \"Smartphone\", \"Laptop/Desktop\", \"Laptop/Desktop\", \"Smartphone\", \"Laptop/Desktop\", \"Smartphone\", \"Smartphone\", \"Smartphone\", \"Smartphone\", \"Laptop/Desktop\", \"Smartphone\", \"Laptop/Desktop\", \"Smartphone\", \"Laptop/Desktop\", \"Smartphone\", \"NA\", \"Laptop/Desktop\", \"Smartphone\", \"Smartphone\", \"NA\", \"Laptop/Desktop\", \"Tablet\", \"Laptop/Desktop\", \"Smartphone\", \"Laptop/Desktop\", \"Smartphone\", \"Smartphone\", \"Smartphone\", \"Tablet\", \"Smartphone\", \"Laptop/Desktop\", \"Any Gadget\", \"Smartphone\", \"Smartphone\", \"Laptop/Desktop\", \"Laptop/Desktop\", \"Smartphone\", \"Smartphone\", \"Laptop/Desktop\", \"Smartphone\", \"Laptop/Desktop\", \"Laptop/Desktop\", \"Laptop/Desktop\", \"Laptop/Desktop\", \"Smartphone\", \"Smartphone\", \"Smartphone\", \"Laptop/Desktop\", \"Laptop/Desktop\", \"Smartphone\", \"Laptop/Desktop\", \"Smartphone\", \"Laptop/Desktop\", \"Laptop/Desktop\", \"Smartphone\", \"Laptop/Desktop\", \"Laptop/Desktop\", \"Smartphone\", \"Smartphone\", \"Laptop/Desktop\", \"Smartphone\", \"Laptop/Desktop\", \"Laptop/Desktop\", \"Smartphone\", \"Smartphone\", \"Smartphone\", \"Laptop/Desktop\", \"Smartphone\", \"NA\", \"NA\", \"NA\", \"NA\", \"NA\", \"Smartphone\", \"Smartphone\", \"Smartphone\", \"Laptop/Desktop\", \"Laptop/Desktop\", \"Smartphone\", \"Laptop/Desktop\", \"Smartphone\", \"Laptop/Desktop\", \"Smartphone\", \"Smartphone\", \"Smartphone\", \"Smartphone\", \"Laptop/Desktop\", \"Laptop/Desktop\", \"Smartphone\", \"Laptop/Desktop\", \"Smartphone\", \"Laptop/Desktop\", \"Laptop/Desktop\", \"Laptop/Desktop\", \"Smartphone\", \"Smartphone\", \"Laptop/Desktop\", \"Laptop/Desktop\", \"Laptop/Desktop\", \"Laptop/Desktop\", \"Laptop/Desktop\", \"Smartphone\", \"Laptop/Desktop\", \"Laptop/Desktop\", \"Smartphone\", \"Laptop/Desktop\", \"Laptop/Desktop\", \"Laptop/Desktop\", \"Laptop/Desktop\", \"Laptop/Desktop\", \"Smartphone\", \"Smartphone\", \"Laptop/Desktop\", \"Laptop/Desktop\", \"Laptop/Desktop\", \"Laptop/Desktop\", \"Laptop/Desktop\", \"Laptop/Desktop\", \"Laptop/Desktop\", \"Laptop/Desktop\", \"Laptop/Desktop\", \"Smartphone\", \"Laptop/Desktop\", \"Laptop/Desktop\", \"Smartphone\", \"NA\", \"Laptop/Desktop\", \"Laptop/Desktop\", \"Any Gadget\", \"Laptop/Desktop\", \"Laptop/Desktop\", \"Tablet\", \"Smartphone\", \"Smartphone\", \"Laptop/Desktop\", \"Smartphone\", \"Laptop/Desktop\", \"Laptop/Desktop\", \"Laptop/Desktop\", \"Smartphone\", \"Laptop/Desktop\", \"Laptop/Desktop\", \"Laptop/Desktop\", \"Laptop/Desktop\", \"Laptop/Desktop\", \"Smartphone\", \"Laptop/Desktop\", \"Smartphone\", \"Smartphone\", \"Smartphone\", \"Smartphone\", \"Laptop/Desktop\", \"Smartphone\", \"Smartphone\", \"Laptop/Desktop\", \"Laptop/Desktop\", \"Smartphone\", \"Laptop/Desktop\", \"Laptop/Desktop\", \"Laptop/Desktop\", \"Smartphone\", \"NA\", \"Laptop/Desktop\", \"Laptop/Desktop\", \"Smartphone\", \"Smartphone\", \"Laptop/Desktop\", \"Smartphone\", \"Laptop/Desktop\", \"Smartphone\", \"Laptop/Desktop\", \"Laptop/Desktop\", \"Smartphone\", \"Laptop/Desktop\", \"Laptop/Desktop\", \"Smartphone\", \"Laptop/Desktop\", \"Smartphone\", \"Laptop/Desktop\", \"Smartphone\", \"Laptop/Desktop\", \"Laptop/Desktop\", \"Laptop/Desktop\", \"Smartphone\", \"Laptop/Desktop\", \"Laptop/Desktop\", \"Laptop/Desktop\", \"Smartphone\", \"Smartphone\", \"NA\", \"Laptop/Desktop\", \"Laptop/Desktop\", \"Laptop/Desktop\", \"Laptop/Desktop\", \"Laptop/Desktop\", \"Smartphone\", \"Smartphone\", \"Laptop/Desktop\", \"Smartphone\", \"Laptop/Desktop\", \"Smartphone\", \"Laptop/Desktop\", \"Laptop/Desktop\", \"Smartphone\", \"Smartphone\", \"Laptop/Desktop\", \"Laptop/Desktop\", \"Laptop/Desktop\", \"Smartphone\", \"Laptop/Desktop\", \"Smartphone\", \"Smartphone\", \"Laptop/Desktop\", \"Smartphone\", \"Laptop/Desktop\", \"Smartphone\", \"Smartphone\", \"Smartphone\", \"Smartphone\", \"Smartphone\", \"Smartphone\", \"Smartphone\", \"Smartphone\", \"Smartphone\", \"Smartphone\", \"Laptop/Desktop\", \"Laptop/Desktop\", \"Laptop/Desktop\", \"Laptop/Desktop\", \"NA\", \"Laptop/Desktop\", \"Laptop/Desktop\", \"Laptop/Desktop\", \"Smartphone\", \"Laptop/Desktop\", \"Smartphone\", \"Laptop/Desktop\", \"Smartphone\", \"Smartphone\", \"Laptop/Desktop\", \"Laptop/Desktop\", \"Laptop/Desktop\", \"Laptop/Desktop\", \"Smartphone\", \"Laptop/Desktop\", \"Laptop/Desktop\", \"Laptop/Desktop\", \"Laptop/Desktop\", \"Laptop/Desktop\", \"Laptop/Desktop\", \"Laptop/Desktop\", \"Laptop/Desktop\", \"Smartphone\", \"Smartphone\", \"Laptop/Desktop\", \"Laptop/Desktop\", \"Smartphone\", \"Smartphone\", \"Smartphone\", \"Smartphone\", \"Smartphone\", \"Smartphone\", \"Laptop/Desktop\", \"Laptop/Desktop\", \"Smartphone\", \"Laptop/Desktop\", \"Smartphone\", \"Laptop/Desktop\", \"Smartphone\", \"Smartphone\", \"Smartphone\", \"Laptop/Desktop\", \"Laptop/Desktop\", \"Laptop/Desktop\", \"Laptop/Desktop\", \"Laptop/Desktop\", \"Smartphone\", \"Laptop/Desktop\", \"Laptop/Desktop\", \"Smartphone\", \"Laptop/Desktop\", \"Smartphone\", \"Laptop/Desktop\", \"Laptop/Desktop\", \"Smartphone\", \"Laptop/Desktop\", \"Smartphone\", \"Smartphone\", \"Laptop/Desktop\", \"Any Gadget\", \"Laptop/Desktop\", \"Smartphone\", \"Laptop/Desktop\", \"Smartphone\", \"Smartphone\", \"Laptop/Desktop\", \"Laptop/Desktop\", \"Laptop/Desktop\", \"Laptop/Desktop\", \"Smartphone\", \"Laptop/Desktop\", \"Laptop/Desktop\", \"Smartphone\", \"Tablet\", \"Smartphone\", \"Laptop/Desktop\", \"Laptop/Desktop\", \"Laptop/Desktop\", \"Laptop/Desktop\", \"Tablet\", \"Smartphone or Laptop/Desktop\", \"Laptop/Desktop\", \"Laptop/Desktop\", \"Smartphone\", \"Smartphone\", \"Laptop/Desktop\", \"Smartphone\", \"Smartphone\", \"Smartphone\", \"Smartphone\", \"Smartphone\", \"Smartphone\", \"Laptop/Desktop\", \"Laptop/Desktop\", \"Laptop/Desktop\", \"Laptop/Desktop\", \"Smartphone\", \"Smartphone\", \"Laptop/Desktop\", \"Laptop/Desktop\", \"Smartphone\", \"Smartphone\", \"Laptop/Desktop\", \"Laptop/Desktop\", \"Smartphone\", \"Tablet\", \"Smartphone\", \"Laptop/Desktop\", \"NA\", \"Smartphone\", \"Smartphone\", \"Laptop/Desktop\", \"Smartphone\", \"NA\", \"Smartphone\", \"Laptop/Desktop\", \"Laptop/Desktop\", \"NA\", \"Smartphone\", \"Laptop/Desktop\", \"NA\", \"Laptop/Desktop\", \"Smartphone\", \"Laptop/Desktop\", \"Laptop/Desktop\", \"Smartphone\", \"Laptop/Desktop\", \"Laptop/Desktop\", \"Laptop/Desktop\", \"Smartphone\", \"Smartphone\", \"Smartphone\", \"Smartphone\", \"Smartphone\", \"Smartphone\", \"Smartphone\", \"Laptop/Desktop\", \"Laptop/Desktop\", \"Smartphone\", \"Smartphone\", \"Smartphone\", \"Smartphone\", \"Smartphone\", \"Laptop/Desktop\", \"Laptop/Desktop\", \"Laptop/Desktop\", \"Smartphone\", \"Laptop/Desktop\", \"Smartphone\", \"Smartphone\", \"Smartphone\", \"Laptop/Desktop\", \"Laptop/Desktop\", \"Smartphone\", \"Laptop/Desktop\", \"Smartphone\", \"Laptop/Desktop\", \"Laptop/Desktop\", \"Smartphone\", \"Smartphone\", \"Laptop/Desktop\", \"Laptop/Desktop\", \"Smartphone\", \"Smartphone\", \"Laptop/Desktop\", \"Smartphone\", \"Smartphone\", \"Laptop/Desktop\", \"Laptop/Desktop\", \"Smartphone\", \"Laptop/Desktop\", \"Smartphone\", \"Smartphone\", \"Smartphone\", \"Smartphone\", \"Smartphone\", \"Smartphone\", \"Laptop/Desktop\", \"Laptop/Desktop\", \"Laptop/Desktop\", \"Laptop/Desktop\", \"Laptop/Desktop\", \"Smartphone\", \"Laptop/Desktop\", \"Smartphone\", \"Smartphone\", \"Smartphone\", \"Smartphone\", \"Smartphone\", \"Smartphone\", \"Laptop/Desktop\", \"Laptop/Desktop\", \"Smartphone\", \"Laptop/Desktop\", \"Smartphone\", \"Laptop/Desktop\", \"Laptop/Desktop\", \"Laptop/Desktop\", \"Smartphone or Laptop/Desktop\", \"Tablet\", \"Smartphone\", \"Laptop/Desktop\", \"Smartphone\", \"Smartphone\", \"Smartphone\", \"Tablet\", \"Laptop/Desktop\", \"Smartphone\", \"Laptop/Desktop\", \"Laptop/Desktop\", \"Laptop/Desktop\", \"Smartphone\", \"Smartphone\", \"Smartphone\", \"Smartphone\", \"Laptop/Desktop\", \"Laptop/Desktop\", \"Laptop/Desktop\", \"Laptop/Desktop\", \"Smartphone\", \"Laptop/Desktop\", \"Smartphone\", \"Smartphone\", \"Laptop/Desktop\", \"Smartphone\", \"Smartphone\", \"Laptop/Desktop\", \"Laptop/Desktop\", \"Smartphone\", \"Smartphone\", \"Laptop/Desktop\", \"Laptop/Desktop\", \"Smartphone\", \"Smartphone\", \"Laptop/Desktop\", \"Laptop/Desktop\", \"Smartphone\", \"Smartphone\", \"Smartphone\", \"Laptop/Desktop\", \"Smartphone\", \"Smartphone\", \"Smartphone\", \"Laptop/Desktop\", \"Smartphone\", \"Smartphone\", \"Tablet\", \"Laptop/Desktop\", \"Tablet\", \"Smartphone\", \"Smartphone\", \"Smartphone\", \"Smartphone\", \"Tablet\", \"Tablet\", \"Smartphone\", \"Laptop/Desktop\", \"Smartphone\", \"Smartphone\", \"Laptop/Desktop\", \"Laptop/Desktop\", \"Smartphone\", \"Smartphone\", \"Smartphone\", \"Smartphone\", \"Tablet\", \"Smartphone\", \"Tablet\", \"Smartphone\", \"Smartphone\", \"Smartphone\", \"Smartphone\", \"Smartphone\", \"Tablet\", \"Smartphone\", \"Laptop/Desktop\", \"Smartphone\", \"Smartphone\", \"Smartphone\", \"Smartphone\", \"Laptop/Desktop\", \"Smartphone\", \"Smartphone\", \"Smartphone\", \"Smartphone\", \"Laptop/Desktop\", \"Smartphone\", \"Smartphone\", \"Smartphone\", \"Smartphone\", \"Laptop/Desktop\", \"Laptop/Desktop\", \"Smartphone\", \"Laptop/Desktop\", \"Smartphone\", \"Laptop/Desktop\", \"Smartphone\", \"Smartphone\", \"Smartphone\", \"Smartphone\", \"Smartphone\", \"Smartphone\", \"Laptop/Desktop\", \"Smartphone\", \"Laptop/Desktop\", \"Smartphone\", \"Laptop/Desktop\", \"Smartphone\", \"Laptop/Desktop\", \"Tablet\", \"Laptop/Desktop\", \"Laptop/Desktop\", \"Smartphone\", \"Smartphone\", \"Laptop/Desktop\", \"Laptop/Desktop\", \"Tablet\", \"Smartphone\", \"Smartphone\", \"Smartphone\", \"Smartphone\", \"Laptop/Desktop\", \"Tablet\"]}, {\"hoverlabel\": {\"namelength\": 0}, \"hovertemplate\": \"Health issue during lockdown=YES<br>Age of Subject=%{x}<br>Time spent on Online Class=%{y}<br>Medium for online class=%{z}\", \"legendgroup\": \"Health issue during lockdown=YES\", \"marker\": {\"color\": \"#EF553B\", \"symbol\": \"circle\"}, \"mode\": \"markers\", \"name\": \"Health issue during lockdown=YES\", \"scene\": \"scene\", \"showlegend\": true, \"type\": \"scatter3d\", \"x\": [21, 19, 20, 21, 21, 21, 19, 22, 20, 20, 19, 19, 20, 20, 19, 21, 20, 18, 25, 19, 21, 21, 21, 19, 20, 20, 19, 21, 19, 21, 20, 21, 22, 20, 20, 21, 19, 20, 22, 21, 34, 20, 19, 22, 19, 22, 16, 20, 21, 19, 19, 20, 22, 19, 21, 21, 21, 22, 17, 21, 14, 20, 20, 20, 13, 27, 21, 21, 16, 13, 20, 18, 21, 18, 18, 22, 20, 19, 21, 19, 21, 22, 26, 19, 18, 19, 24, 40, 32, 21, 21, 18, 22, 21, 13, 21, 13, 20, 20, 19, 22, 22, 21, 19, 23, 20, 23, 19, 20, 20, 20, 20, 19, 20, 22, 19, 21, 22, 20, 23, 19, 22, 23, 21, 21, 21, 21, 27, 33, 17, 20, 20, 21, 26, 33, 24, 14, 21, 22, 21, 19, 21, 21, 26, 21, 19, 19, 19, 20, 23, 32, 25, 22, 22, 19, 21, 19, 33, 16, 12, 14], \"y\": [0.0, 2.0, 0.0, 1.0, 3.0, 4.0, 4.0, 5.0, 7.0, 2.0, 0.0, 4.0, 5.0, 1.5, 3.0, 5.0, 5.0, 3.0, 4.0, 4.0, 1.0, 4.0, 3.0, 1.0, 3.0, 6.0, 6.0, 1.0, 0.5, 3.0, 6.0, 4.0, 1.0, 0.0, 0.0, 0.0, 2.0, 3.0, 1.0, 3.0, 1.5, 3.0, 0.5, 0.0, 2.0, 5.0, 7.0, 1.0, 3.0, 0.0, 1.0, 0.0, 1.0, 1.0, 5.0, 0.0, 2.0, 1.0, 0.75, 3.0, 2.0, 3.0, 3.0, 0.0, 2.0, 3.0, 0.0, 2.0, 2.0, 2.0, 0.0, 2.0, 2.0, 4.0, 6.0, 2.0, 0.5, 0.0, 1.0, 2.0, 0.0, 3.0, 0.5, 2.0, 0.0, 3.0, 6.0, 5.0, 1.0, 1.0, 6.0, 1.0, 1.0, 0.0, 3.5, 4.0, 4.0, 4.0, 0.0, 2.0, 6.0, 1.0, 5.0, 4.0, 3.0, 3.0, 2.0, 2.0, 1.5, 5.0, 2.0, 4.0, 2.0, 0.0, 2.0, 6.0, 2.0, 3.0, 7.0, 5.0, 2.0, 0.0, 1.0, 0.0, 3.0, 2.0, 5.0, 3.0, 2.0, 1.0, 3.0, 2.0, 2.0, 1.0, 3.0, 0.0, 5.0, 2.0, 1.0, 4.0, 1.0, 4.0, 8.0, 0.0, 5.0, 8.0, 2.0, 0.0, 3.0, 4.0, 3.0, 0.0, 5.0, 2.0, 3.0, 4.0, 4.0, 4.0, 8.0, 4.0, 5.0], \"z\": [\"Smartphone\", \"Tablet\", \"Laptop/Desktop\", \"Laptop/Desktop\", \"Laptop/Desktop\", \"Laptop/Desktop\", \"Smartphone\", \"Laptop/Desktop\", \"Smartphone\", \"Smartphone\", \"Smartphone\", \"Smartphone\", \"Laptop/Desktop\", \"Smartphone\", \"Smartphone\", \"Laptop/Desktop\", \"Smartphone\", \"Smartphone\", \"Smartphone\", \"Laptop/Desktop\", \"Smartphone\", \"Smartphone\", \"Smartphone\", \"Smartphone\", \"Smartphone\", \"Laptop/Desktop\", \"Smartphone\", \"Smartphone\", \"Smartphone\", \"Smartphone\", \"Smartphone\", \"Smartphone\", \"Smartphone\", \"Smartphone\", \"Smartphone\", \"Smartphone\", \"Smartphone\", \"Laptop/Desktop\", \"Smartphone\", \"Smartphone\", \"Laptop/Desktop\", \"Laptop/Desktop\", \"Smartphone\", \"Laptop/Desktop\", \"Smartphone\", \"Laptop/Desktop\", \"Smartphone\", \"Smartphone\", \"Laptop/Desktop\", \"Laptop/Desktop\", \"Laptop/Desktop\", \"Laptop/Desktop\", \"Smartphone\", \"Laptop/Desktop\", \"Laptop/Desktop\", \"Laptop/Desktop\", \"Laptop/Desktop\", \"Laptop/Desktop\", \"Smartphone\", \"Laptop/Desktop\", \"Smartphone\", \"Laptop/Desktop\", \"Smartphone\", \"Laptop/Desktop\", \"Smartphone\", \"Laptop/Desktop\", \"Laptop/Desktop\", \"Laptop/Desktop\", \"Laptop/Desktop\", \"Smartphone\", \"Laptop/Desktop\", \"NA\", \"NA\", \"Smartphone\", \"Laptop/Desktop\", \"Laptop/Desktop\", \"Smartphone\", \"Smartphone\", \"Laptop/Desktop\", \"Laptop/Desktop\", \"Smartphone\", \"Smartphone\", \"Smartphone\", \"Laptop/Desktop\", \"Smartphone\", \"Laptop/Desktop\", \"Laptop/Desktop\", \"Laptop/Desktop\", \"Laptop/Desktop\", \"Laptop/Desktop\", \"Laptop/Desktop\", \"Smartphone\", \"Smartphone\", \"Smartphone\", \"Smartphone\", \"Laptop/Desktop\", \"Smartphone\", \"Laptop/Desktop\", \"Laptop/Desktop\", \"Laptop/Desktop\", \"Smartphone\", \"Laptop/Desktop\", \"Laptop/Desktop\", \"Laptop/Desktop\", \"Laptop/Desktop\", \"Laptop/Desktop\", \"Smartphone\", \"Laptop/Desktop\", \"Smartphone\", \"Laptop/Desktop\", \"Smartphone\", \"Smartphone\", \"Smartphone\", \"Smartphone\", \"Laptop/Desktop\", \"Smartphone\", \"Smartphone\", \"Laptop/Desktop\", \"Smartphone\", \"Laptop/Desktop\", \"Laptop/Desktop\", \"Smartphone\", \"Smartphone\", \"Smartphone\", \"Laptop/Desktop\", \"Smartphone\", \"Smartphone\", \"Laptop/Desktop\", \"Laptop/Desktop\", \"Smartphone\", \"Smartphone\", \"Smartphone\", \"Smartphone\", \"Smartphone\", \"Smartphone\", \"Smartphone\", \"Tablet\", \"Smartphone\", \"Laptop/Desktop\", \"Laptop/Desktop\", \"Smartphone\", \"Smartphone\", \"Laptop/Desktop\", \"Smartphone\", \"Smartphone\", \"Smartphone\", \"Smartphone\", \"Laptop/Desktop\", \"Laptop/Desktop\", \"Smartphone\", \"Laptop/Desktop\", \"Laptop/Desktop\", \"Laptop/Desktop\", \"Smartphone\", \"Laptop/Desktop\", \"Laptop/Desktop\", \"Laptop/Desktop\", \"Smartphone\", \"Laptop/Desktop\", \"Smartphone\", \"Smartphone or Laptop/Desktop\"]}],\n",
              "                        {\"legend\": {\"tracegroupgap\": 0}, \"margin\": {\"t\": 60}, \"scene\": {\"domain\": {\"x\": [0.0, 1.0], \"y\": [0.0, 1.0]}, \"xaxis\": {\"title\": {\"text\": \"Age of Subject\"}}, \"yaxis\": {\"title\": {\"text\": \"Time spent on Online Class\"}}, \"zaxis\": {\"title\": {\"text\": \"Medium for online class\"}}}, \"template\": {\"data\": {\"bar\": [{\"error_x\": {\"color\": \"#2a3f5f\"}, \"error_y\": {\"color\": \"#2a3f5f\"}, \"marker\": {\"line\": {\"color\": \"#E5ECF6\", \"width\": 0.5}}, \"type\": \"bar\"}], \"barpolar\": [{\"marker\": {\"line\": {\"color\": \"#E5ECF6\", \"width\": 0.5}}, \"type\": \"barpolar\"}], \"carpet\": [{\"aaxis\": {\"endlinecolor\": \"#2a3f5f\", \"gridcolor\": \"white\", \"linecolor\": \"white\", \"minorgridcolor\": \"white\", \"startlinecolor\": \"#2a3f5f\"}, \"baxis\": {\"endlinecolor\": \"#2a3f5f\", \"gridcolor\": \"white\", \"linecolor\": \"white\", \"minorgridcolor\": \"white\", \"startlinecolor\": \"#2a3f5f\"}, \"type\": \"carpet\"}], \"choropleth\": [{\"colorbar\": {\"outlinewidth\": 0, \"ticks\": \"\"}, \"type\": \"choropleth\"}], \"contour\": [{\"colorbar\": {\"outlinewidth\": 0, \"ticks\": \"\"}, \"colorscale\": [[0.0, \"#0d0887\"], [0.1111111111111111, \"#46039f\"], [0.2222222222222222, \"#7201a8\"], [0.3333333333333333, \"#9c179e\"], [0.4444444444444444, \"#bd3786\"], [0.5555555555555556, \"#d8576b\"], [0.6666666666666666, \"#ed7953\"], [0.7777777777777778, \"#fb9f3a\"], [0.8888888888888888, \"#fdca26\"], [1.0, \"#f0f921\"]], \"type\": \"contour\"}], \"contourcarpet\": [{\"colorbar\": {\"outlinewidth\": 0, \"ticks\": \"\"}, \"type\": \"contourcarpet\"}], \"heatmap\": [{\"colorbar\": {\"outlinewidth\": 0, \"ticks\": \"\"}, \"colorscale\": [[0.0, \"#0d0887\"], [0.1111111111111111, \"#46039f\"], [0.2222222222222222, \"#7201a8\"], [0.3333333333333333, \"#9c179e\"], [0.4444444444444444, \"#bd3786\"], [0.5555555555555556, \"#d8576b\"], [0.6666666666666666, \"#ed7953\"], [0.7777777777777778, \"#fb9f3a\"], [0.8888888888888888, \"#fdca26\"], [1.0, \"#f0f921\"]], \"type\": \"heatmap\"}], \"heatmapgl\": [{\"colorbar\": {\"outlinewidth\": 0, \"ticks\": \"\"}, \"colorscale\": [[0.0, \"#0d0887\"], [0.1111111111111111, \"#46039f\"], [0.2222222222222222, \"#7201a8\"], [0.3333333333333333, \"#9c179e\"], [0.4444444444444444, \"#bd3786\"], [0.5555555555555556, \"#d8576b\"], [0.6666666666666666, \"#ed7953\"], [0.7777777777777778, \"#fb9f3a\"], [0.8888888888888888, \"#fdca26\"], [1.0, \"#f0f921\"]], \"type\": \"heatmapgl\"}], \"histogram\": [{\"marker\": {\"colorbar\": {\"outlinewidth\": 0, \"ticks\": \"\"}}, \"type\": \"histogram\"}], \"histogram2d\": [{\"colorbar\": {\"outlinewidth\": 0, \"ticks\": \"\"}, \"colorscale\": [[0.0, \"#0d0887\"], [0.1111111111111111, \"#46039f\"], [0.2222222222222222, \"#7201a8\"], [0.3333333333333333, \"#9c179e\"], [0.4444444444444444, \"#bd3786\"], [0.5555555555555556, \"#d8576b\"], [0.6666666666666666, \"#ed7953\"], [0.7777777777777778, \"#fb9f3a\"], [0.8888888888888888, \"#fdca26\"], [1.0, \"#f0f921\"]], \"type\": \"histogram2d\"}], \"histogram2dcontour\": [{\"colorbar\": {\"outlinewidth\": 0, \"ticks\": \"\"}, \"colorscale\": [[0.0, \"#0d0887\"], [0.1111111111111111, \"#46039f\"], [0.2222222222222222, \"#7201a8\"], [0.3333333333333333, \"#9c179e\"], [0.4444444444444444, \"#bd3786\"], [0.5555555555555556, \"#d8576b\"], [0.6666666666666666, \"#ed7953\"], [0.7777777777777778, \"#fb9f3a\"], [0.8888888888888888, \"#fdca26\"], [1.0, \"#f0f921\"]], \"type\": \"histogram2dcontour\"}], \"mesh3d\": [{\"colorbar\": {\"outlinewidth\": 0, \"ticks\": \"\"}, \"type\": \"mesh3d\"}], \"parcoords\": [{\"line\": {\"colorbar\": {\"outlinewidth\": 0, \"ticks\": \"\"}}, \"type\": \"parcoords\"}], \"pie\": [{\"automargin\": true, \"type\": \"pie\"}], \"scatter\": [{\"marker\": {\"colorbar\": {\"outlinewidth\": 0, \"ticks\": \"\"}}, \"type\": \"scatter\"}], \"scatter3d\": [{\"line\": {\"colorbar\": {\"outlinewidth\": 0, \"ticks\": \"\"}}, \"marker\": {\"colorbar\": {\"outlinewidth\": 0, \"ticks\": \"\"}}, \"type\": \"scatter3d\"}], \"scattercarpet\": [{\"marker\": {\"colorbar\": {\"outlinewidth\": 0, \"ticks\": \"\"}}, \"type\": \"scattercarpet\"}], \"scattergeo\": [{\"marker\": {\"colorbar\": {\"outlinewidth\": 0, \"ticks\": \"\"}}, \"type\": \"scattergeo\"}], \"scattergl\": [{\"marker\": {\"colorbar\": {\"outlinewidth\": 0, \"ticks\": \"\"}}, \"type\": \"scattergl\"}], \"scattermapbox\": [{\"marker\": {\"colorbar\": {\"outlinewidth\": 0, \"ticks\": \"\"}}, \"type\": \"scattermapbox\"}], \"scatterpolar\": [{\"marker\": {\"colorbar\": {\"outlinewidth\": 0, \"ticks\": \"\"}}, \"type\": \"scatterpolar\"}], \"scatterpolargl\": [{\"marker\": {\"colorbar\": {\"outlinewidth\": 0, \"ticks\": \"\"}}, \"type\": \"scatterpolargl\"}], \"scatterternary\": [{\"marker\": {\"colorbar\": {\"outlinewidth\": 0, \"ticks\": \"\"}}, \"type\": \"scatterternary\"}], \"surface\": [{\"colorbar\": {\"outlinewidth\": 0, \"ticks\": \"\"}, \"colorscale\": [[0.0, \"#0d0887\"], [0.1111111111111111, \"#46039f\"], [0.2222222222222222, \"#7201a8\"], [0.3333333333333333, \"#9c179e\"], [0.4444444444444444, \"#bd3786\"], [0.5555555555555556, \"#d8576b\"], [0.6666666666666666, \"#ed7953\"], [0.7777777777777778, \"#fb9f3a\"], [0.8888888888888888, \"#fdca26\"], [1.0, \"#f0f921\"]], \"type\": \"surface\"}], \"table\": [{\"cells\": {\"fill\": {\"color\": \"#EBF0F8\"}, \"line\": {\"color\": \"white\"}}, \"header\": {\"fill\": {\"color\": \"#C8D4E3\"}, \"line\": {\"color\": \"white\"}}, \"type\": \"table\"}]}, \"layout\": {\"annotationdefaults\": {\"arrowcolor\": \"#2a3f5f\", \"arrowhead\": 0, \"arrowwidth\": 1}, \"coloraxis\": {\"colorbar\": {\"outlinewidth\": 0, \"ticks\": \"\"}}, \"colorscale\": {\"diverging\": [[0, \"#8e0152\"], [0.1, \"#c51b7d\"], [0.2, \"#de77ae\"], [0.3, \"#f1b6da\"], [0.4, \"#fde0ef\"], [0.5, \"#f7f7f7\"], [0.6, \"#e6f5d0\"], [0.7, \"#b8e186\"], [0.8, \"#7fbc41\"], [0.9, \"#4d9221\"], [1, \"#276419\"]], \"sequential\": [[0.0, \"#0d0887\"], [0.1111111111111111, \"#46039f\"], [0.2222222222222222, \"#7201a8\"], [0.3333333333333333, \"#9c179e\"], [0.4444444444444444, \"#bd3786\"], [0.5555555555555556, \"#d8576b\"], [0.6666666666666666, \"#ed7953\"], [0.7777777777777778, \"#fb9f3a\"], [0.8888888888888888, \"#fdca26\"], [1.0, \"#f0f921\"]], \"sequentialminus\": [[0.0, \"#0d0887\"], [0.1111111111111111, \"#46039f\"], [0.2222222222222222, \"#7201a8\"], [0.3333333333333333, \"#9c179e\"], [0.4444444444444444, \"#bd3786\"], [0.5555555555555556, \"#d8576b\"], [0.6666666666666666, \"#ed7953\"], [0.7777777777777778, \"#fb9f3a\"], [0.8888888888888888, \"#fdca26\"], [1.0, \"#f0f921\"]]}, \"colorway\": [\"#636efa\", \"#EF553B\", \"#00cc96\", \"#ab63fa\", \"#FFA15A\", \"#19d3f3\", \"#FF6692\", \"#B6E880\", \"#FF97FF\", \"#FECB52\"], \"font\": {\"color\": \"#2a3f5f\"}, \"geo\": {\"bgcolor\": \"white\", \"lakecolor\": \"white\", \"landcolor\": \"#E5ECF6\", \"showlakes\": true, \"showland\": true, \"subunitcolor\": \"white\"}, \"hoverlabel\": {\"align\": \"left\"}, \"hovermode\": \"closest\", \"mapbox\": {\"style\": \"light\"}, \"paper_bgcolor\": \"white\", \"plot_bgcolor\": \"#E5ECF6\", \"polar\": {\"angularaxis\": {\"gridcolor\": \"white\", \"linecolor\": \"white\", \"ticks\": \"\"}, \"bgcolor\": \"#E5ECF6\", \"radialaxis\": {\"gridcolor\": \"white\", \"linecolor\": \"white\", \"ticks\": \"\"}}, \"scene\": {\"xaxis\": {\"backgroundcolor\": \"#E5ECF6\", \"gridcolor\": \"white\", \"gridwidth\": 2, \"linecolor\": \"white\", \"showbackground\": true, \"ticks\": \"\", \"zerolinecolor\": \"white\"}, \"yaxis\": {\"backgroundcolor\": \"#E5ECF6\", \"gridcolor\": \"white\", \"gridwidth\": 2, \"linecolor\": \"white\", \"showbackground\": true, \"ticks\": \"\", \"zerolinecolor\": \"white\"}, \"zaxis\": {\"backgroundcolor\": \"#E5ECF6\", \"gridcolor\": \"white\", \"gridwidth\": 2, \"linecolor\": \"white\", \"showbackground\": true, \"ticks\": \"\", \"zerolinecolor\": \"white\"}}, \"shapedefaults\": {\"line\": {\"color\": \"#2a3f5f\"}}, \"ternary\": {\"aaxis\": {\"gridcolor\": \"white\", \"linecolor\": \"white\", \"ticks\": \"\"}, \"baxis\": {\"gridcolor\": \"white\", \"linecolor\": \"white\", \"ticks\": \"\"}, \"bgcolor\": \"#E5ECF6\", \"caxis\": {\"gridcolor\": \"white\", \"linecolor\": \"white\", \"ticks\": \"\"}}, \"title\": {\"x\": 0.05}, \"xaxis\": {\"automargin\": true, \"gridcolor\": \"white\", \"linecolor\": \"white\", \"ticks\": \"\", \"title\": {\"standoff\": 15}, \"zerolinecolor\": \"white\", \"zerolinewidth\": 2}, \"yaxis\": {\"automargin\": true, \"gridcolor\": \"white\", \"linecolor\": \"white\", \"ticks\": \"\", \"title\": {\"standoff\": 15}, \"zerolinecolor\": \"white\", \"zerolinewidth\": 2}}}},\n",
              "                        {\"responsive\": true}\n",
              "                    ).then(function(){\n",
              "                            \n",
              "var gd = document.getElementById('16d28e6b-a235-44ab-b9a3-7bb1219a300f');\n",
              "var x = new MutationObserver(function (mutations, observer) {{\n",
              "        var display = window.getComputedStyle(gd).display;\n",
              "        if (!display || display === 'none') {{\n",
              "            console.log([gd, 'removed!']);\n",
              "            Plotly.purge(gd);\n",
              "            observer.disconnect();\n",
              "        }}\n",
              "}});\n",
              "\n",
              "// Listen for the removal of the full notebook cells\n",
              "var notebookContainer = gd.closest('#notebook-container');\n",
              "if (notebookContainer) {{\n",
              "    x.observe(notebookContainer, {childList: true});\n",
              "}}\n",
              "\n",
              "// Listen for the clearing of the current output cell\n",
              "var outputEl = gd.closest('.output');\n",
              "if (outputEl) {{\n",
              "    x.observe(outputEl, {childList: true});\n",
              "}}\n",
              "\n",
              "                        })\n",
              "                };\n",
              "                \n",
              "            </script>\n",
              "        </div>\n",
              "</body>\n",
              "</html>"
            ]
          },
          "metadata": {
            "tags": []
          }
        }
      ]
    },
    {
      "cell_type": "code",
      "metadata": {
        "colab": {
          "base_uri": "https://localhost:8080/",
          "height": 313
        },
        "id": "H9j9KnBUR4QE",
        "outputId": "3c188b20-bed1-4260-ba23-347cfa74ea8e"
      },
      "source": [
        "plt.scatter(dataframe['Age of Subject'], dataframe['Time spent on Online Class'], color='#7FD4D7')\n",
        "plt.ylabel('Time spent on Online Class')\n",
        "plt.xlabel('Age of Subject')\n",
        "plt.title('COVID-19 Mental Health Issues Age and Online Class')"
      ],
      "execution_count": null,
      "outputs": [
        {
          "output_type": "execute_result",
          "data": {
            "text/plain": [
              "Text(0.5, 1.0, 'COVID-19 Mental Health Issues Age and Online Class')"
            ]
          },
          "metadata": {
            "tags": []
          },
          "execution_count": 13
        },
        {
          "output_type": "display_data",
          "data": {
            "image/png": "[encoded data removed]",
            "text/plain": [
              "<Figure size 432x288 with 1 Axes>"
            ]
          },
          "metadata": {
            "tags": [],
            "needs_background": "light"
          }
        }
      ]
    },
    {
      "cell_type": "code",
      "metadata": {
        "colab": {
          "base_uri": "https://localhost:8080/",
          "height": 542
        },
        "id": "tVVw2PpJQwwK",
        "outputId": "0ddbdbc0-52b5-4856-a53b-38d2f9942d12"
      },
      "source": [
        "fig = px.pie(dataframe, names = 'Time spent on sleep' , title='Hours Spent on Sleep During Lockdown')\n",
        "fig.show()"
      ],
      "execution_count": null,
      "outputs": [
        {
          "output_type": "display_data",
          "data": {
            "text/html": [
              "<html>\n",
              "<head><meta charset=\"utf-8\" /></head>\n",
              "<body>\n",
              "    <div>\n",
              "            <script src=\"https://cdnjs.cloudflare.com/ajax/libs/mathjax/2.7.5/MathJax.js?config=TeX-AMS-MML_SVG\"></script><script type=\"text/javascript\">if (window.MathJax) {MathJax.Hub.Config({SVG: {font: \"STIX-Web\"}});}</script>\n",
              "                <script type=\"text/javascript\">window.PlotlyConfig = {MathJaxConfig: 'local'};</script>\n",
              "        <script src=\"https://cdn.plot.ly/plotly-latest.min.js\"></script>    \n",
              "            <div id=\"2f374216-05b5-4e1c-94c3-b00e86eb1ac1\" class=\"plotly-graph-div\" style=\"height:525px; width:100%;\"></div>\n",
              "            <script type=\"text/javascript\">\n",
              "                \n",
              "                    window.PLOTLYENV=window.PLOTLYENV || {};\n",
              "                    \n",
              "                if (document.getElementById(\"2f374216-05b5-4e1c-94c3-b00e86eb1ac1\")) {\n",
              "                    Plotly.newPlot(\n",
              "                        '2f374216-05b5-4e1c-94c3-b00e86eb1ac1',\n",
              "                        [{\"domain\": {\"x\": [0.0, 1.0], \"y\": [0.0, 1.0]}, \"hoverlabel\": {\"namelength\": 0}, \"hovertemplate\": \"Time spent on sleep=%{label}\", \"labels\": [7.0, 10.0, 6.0, 6.0, 8.0, 5.0, 5.0, 10.0, 8.0, 8.0, 8.0, 7.0, 8.0, 7.0, 8.0, 6.0, 8.0, 8.0, 7.0, 8.0, 6.0, 10.0, 8.0, 7.0, 9.0, 9.0, 8.0, 9.0, 6.0, 5.0, 7.0, 8.0, 4.0, 6.0, 6.0, 8.0, 7.0, 8.0, 8.0, 8.0, 6.0, 10.0, 8.0, 8.0, 12.0, 8.0, 7.0, 6.0, 8.0, 8.0, 8.0, 7.0, 5.0, 10.0, 8.0, 7.0, 8.0, 8.0, 7.0, 8.0, 6.0, 8.0, 6.0, 8.0, 7.0, 7.0, 6.0, 8.0, 9.0, 8.0, 6.0, 7.0, 7.0, 7.0, 8.0, 5.0, 8.0, 10.0, 8.0, 8.0, 8.0, 10.0, 9.0, 12.0, 10.0, 8.0, 7.0, 8.0, 7.0, 7.0, 7.0, 8.0, 8.0, 8.0, 5.0, 8.0, 10.0, 12.0, 10.0, 8.0, 7.0, 8.0, 7.0, 7.0, 8.0, 8.0, 7.0, 8.0, 8.0, 10.0, 8.0, 11.0, 8.0, 7.0, 10.0, 7.0, 8.0, 12.0, 7.0, 6.0, 8.0, 6.0, 8.0, 9.0, 7.0, 7.0, 6.5, 8.0, 6.0, 8.0, 9.0, 8.0, 9.0, 10.0, 8.0, 12.0, 7.0, 6.0, 7.0, 9.0, 7.0, 9.0, 6.0, 7.0, 8.0, 8.0, 6.0, 8.0, 7.0, 10.0, 10.0, 8.0, 6.0, 8.0, 6.0, 7.0, 6.0, 5.0, 6.0, 7.0, 7.0, 8.0, 10.0, 8.0, 7.0, 12.0, 8.0, 7.0, 12.0, 7.0, 8.0, 8.0, 10.0, 7.0, 10.0, 8.0, 7.0, 9.0, 8.0, 7.0, 8.0, 6.0, 8.0, 7.0, 6.0, 9.0, 11.0, 8.0, 8.0, 6.0, 7.0, 8.0, 7.0, 8.0, 8.0, 6.0, 7.0, 7.0, 7.5, 8.0, 8.0, 8.0, 8.0, 7.0, 12.0, 9.0, 7.0, 7.0, 9.0, 7.0, 7.0, 7.0, 7.0, 7.0, 7.0, 7.0, 7.0, 6.0, 10.0, 10.0, 8.0, 5.0, 8.0, 10.0, 9.0, 8.0, 9.0, 8.0, 5.0, 8.0, 5.0, 8.0, 8.0, 8.0, 6.0, 9.0, 7.0, 4.0, 8.0, 8.0, 8.0, 11.0, 9.0, 8.0, 7.0, 6.0, 7.0, 7.0, 9.0, 6.0, 5.0, 7.0, 8.0, 8.0, 8.0, 8.0, 6.0, 8.0, 7.0, 10.0, 8.0, 6.0, 8.0, 6.0, 7.0, 5.0, 9.0, 7.0, 7.5, 8.0, 7.0, 6.0, 8.0, 8.0, 9.0, 10.0, 9.0, 6.0, 8.0, 7.0, 8.0, 8.0, 8.0, 7.0, 10.0, 8.0, 6.0, 9.0, 8.0, 6.0, 7.0, 6.0, 9.0, 6.0, 8.0, 9.0, 7.0, 8.0, 10.0, 7.0, 8.0, 8.0, 8.0, 12.0, 6.5, 8.0, 6.0, 7.0, 8.0, 7.0, 10.0, 8.0, 9.0, 8.0, 6.0, 12.0, 7.0, 12.0, 10.0, 8.0, 7.0, 6.0, 9.0, 10.0, 8.0, 7.0, 7.0, 7.0, 12.0, 8.0, 8.0, 11.0, 9.0, 12.0, 6.0, 6.0, 8.0, 8.0, 7.0, 7.0, 6.0, 9.0, 9.0, 11.0, 8.0, 10.0, 8.0, 8.0, 8.0, 7.0, 6.0, 9.0, 7.0, 6.0, 6.0, 6.0, 11.0, 7.0, 7.0, 8.0, 9.0, 6.0, 8.0, 6.0, 7.0, 8.0, 6.0, 10.0, 8.0, 6.0, 10.0, 8.0, 8.0, 8.0, 7.0, 7.0, 7.0, 8.0, 12.0, 12.0, 8.0, 9.0, 8.0, 6.0, 6.0, 10.0, 6.0, 8.0, 9.0, 6.0, 8.0, 8.0, 6.0, 11.0, 8.0, 8.0, 7.0, 10.0, 8.0, 12.0, 4.0, 6.0, 8.0, 8.0, 10.0, 7.0, 7.0, 8.0, 7.0, 9.0, 8.0, 7.0, 7.0, 8.0, 7.0, 7.0, 6.0, 8.0, 8.0, 7.0, 9.0, 6.0, 6.0, 7.0, 14.0, 12.0, 12.0, 8.0, 10.0, 9.0, 5.0, 8.0, 8.0, 8.0, 6.0, 8.0, 9.0, 11.0, 8.0, 7.0, 10.0, 7.0, 7.0, 7.0, 8.0, 6.0, 6.0, 8.0, 6.0, 8.0, 7.0, 9.0, 8.0, 8.0, 7.0, 12.0, 7.0, 7.0, 10.0, 8.0, 8.0, 8.0, 6.5, 13.0, 6.0, 6.0, 9.0, 8.0, 8.0, 9.0, 7.0, 7.0, 13.0, 8.0, 8.0, 8.0, 9.0, 11.0, 6.0, 6.0, 7.0, 8.0, 8.0, 6.0, 6.0, 8.0, 12.0, 6.0, 7.0, 5.0, 8.0, 6.0, 10.0, 8.0, 8.0, 10.0, 6.0, 7.0, 8.0, 6.0, 11.0, 6.0, 12.0, 10.0, 8.0, 7.0, 8.0, 6.0, 7.0, 5.0, 15.0, 8.0, 8.0, 8.0, 6.0, 7.0, 8.0, 9.0, 9.0, 10.0, 8.0, 7.0, 7.0, 12.0, 10.0, 7.0, 8.0, 7.0, 8.0, 8.0, 8.0, 6.0, 7.0, 10.0, 6.0, 8.0, 6.0, 8.0, 8.0, 9.0, 8.0, 8.0, 6.0, 6.0, 7.0, 6.0, 7.0, 9.0, 7.0, 9.0, 9.0, 11.0, 6.0, 10.0, 8.0, 8.0, 8.0, 8.0, 8.0, 8.0, 8.0, 8.0, 7.0, 7.0, 11.0, 8.0, 8.0, 9.0, 7.0, 8.0, 8.0, 9.0, 8.0, 9.0, 9.0, 7.0, 5.0, 7.0, 11.0, 7.0, 8.0, 6.0, 10.0, 8.0, 8.0, 9.0, 7.0, 7.0, 6.0, 7.0, 9.0, 10.0, 10.0, 8.0, 6.0, 7.0, 9.0, 7.0, 8.0, 8.0, 8.0, 8.0, 7.0, 8.0, 8.0, 7.0, 10.0, 7.0, 6.0, 10.0, 7.0, 8.0, 9.0, 6.0, 8.0, 12.0, 12.0, 9.0, 5.0, 7.0, 8.0, 6.0, 8.0, 13.0, 7.0, 9.0, 9.0, 6.0, 11.0, 7.0, 7.0, 7.0, 10.0, 8.0, 9.0, 8.0, 9.0, 7.0, 6.0, 12.0, 12.0, 5.0, 8.0, 10.0, 8.0, 5.0, 8.0, 12.0, 7.0, 6.0, 8.0, 9.0, 7.0, 8.0, 7.0, 8.0, 7.0, 11.0, 9.0, 8.0, 5.0, 6.0, 8.0, 8.0, 9.0, 9.0, 9.0, 8.0, 7.0, 7.0, 8.0, 8.0, 10.0, 10.0, 7.0, 10.0, 9.0, 7.0, 7.0, 7.0, 8.0, 9.0, 6.0, 7.0, 7.0, 14.0, 12.0, 8.0, 9.0, 10.0, 6.0, 7.0, 7.0, 6.0, 5.0, 9.0, 9.0, 12.0, 12.0, 8.0, 10.0, 8.0, 6.0, 8.0, 7.0, 7.0, 6.0, 6.0, 6.0, 6.0, 8.0, 9.0, 9.0, 9.0, 6.0, 6.0, 6.0, 11.0, 10.0, 10.0, 5.0, 9.0, 8.0, 9.0, 10.0, 8.0, 4.0, 8.0, 9.0, 9.0, 8.0, 10.0, 8.0, 7.0, 10.0, 8.0, 8.0, 10.0, 7.0, 12.0, 8.0, 5.0, 7.0, 6.0, 8.0, 9.0, 6.0, 8.0, 8.0, 8.0, 7.0, 8.0, 11.0, 7.0, 6.0, 7.0, 8.0, 9.0, 6.0, 9.0, 9.0, 9.0, 8.0, 8.0, 9.0, 7.0, 9.0, 6.0, 6.0, 8.0, 6.0, 6.0, 7.0, 8.0, 8.0, 7.8, 8.0, 8.0, 8.0, 6.7, 8.0, 9.0, 5.0, 8.0, 7.0, 5.0, 7.0, 7.0, 10.0, 8.0, 7.0, 8.0, 9.0, 8.0, 7.0, 7.0, 9.0, 8.0, 10.0, 8.0, 9.0, 8.0, 7.0, 8.0, 8.0, 10.0, 10.0, 8.0, 8.0, 7.0, 5.0, 7.0, 8.0, 8.0, 8.0, 8.5, 9.0, 9.0, 8.0, 7.0, 6.0, 8.0, 11.0, 7.0, 7.0, 8.0, 6.0, 8.0, 5.0, 6.0, 8.0, 8.0, 6.0, 12.0, 6.0, 10.0, 7.0, 9.0, 9.0, 8.0, 8.0, 8.0, 10.0, 6.0, 8.0, 7.0, 9.0, 6.0, 6.0, 6.0, 8.0, 8.0, 9.0, 7.0, 12.0, 6.0, 7.0, 10.0, 7.0, 7.0, 7.0, 8.0, 7.0, 7.0, 7.0, 9.0, 7.0, 5.0, 6.0, 7.0, 7.0, 5.0, 9.0, 5.0, 5.0, 8.0, 9.0, 8.0, 8.0, 8.0, 10.0, 12.0, 8.0, 7.0, 8.0, 8.0, 8.0, 8.0, 7.0, 6.0, 6.0, 10.0, 7.0, 7.0, 8.0, 6.0, 11.0, 8.0, 5.0, 8.0, 8.0, 6.0, 10.0, 7.0, 8.0, 5.0, 5.0, 7.0, 8.0, 8.0, 7.0, 10.0, 9.0, 9.0, 7.0, 7.0, 10.0, 6.0, 7.0, 10.0, 6.0, 9.0, 6.0, 8.0, 6.0, 6.0, 9.0, 5.0, 7.0, 6.0, 8.0, 7.0, 11.0, 10.0, 8.0, 8.0, 8.0, 7.0, 7.0, 8.0, 8.0, 8.0, 8.0, 7.0, 8.3, 8.0, 7.0, 11.0, 6.0, 9.0, 10.0, 8.0, 7.0, 12.0, 6.0, 7.0, 8.0, 9.0, 10.0, 7.0, 10.0, 9.0, 12.0, 7.5, 6.0, 8.0, 9.0, 8.0, 10.0, 8.0, 10.0, 8.0, 8.0, 7.0, 9.0, 7.0, 6.0, 7.0, 8.0, 8.0, 7.0, 6.0, 8.0, 8.0, 8.0, 5.0, 8.0, 6.0, 12.0, 8.0, 7.0, 9.0, 6.0, 8.0, 7.0, 8.0, 8.0, 8.0, 6.0, 7.0, 7.0, 8.0, 7.0, 7.0, 8.0, 9.0, 8.0, 6.0, 8.0, 10.0, 6.0, 7.0, 8.0, 8.0, 6.0, 7.0, 8.0, 10.0, 8.0, 6.0, 9.0, 5.0, 9.0, 7.0, 6.0, 9.0, 8.0, 12.0, 9.0, 8.0, 8.0, 10.0, 10.0, 8.0, 6.0, 8.0, 8.0, 8.0, 10.0, 7.0, 10.0, 8.0, 6.0, 11.0, 7.0, 8.0, 8.0, 5.0, 9.0, 6.0, 6.0, 7.5, 8.0, 7.0, 8.0, 5.0, 9.0, 10.0, 6.0, 10.0, 7.0, 8.0, 8.0, 7.0, 8.0, 8.0, 5.0, 7.0, 8.0, 8.0, 7.0, 8.0, 8.0, 7.0, 7.0, 8.0, 5.0, 7.0, 7.0, 7.0, 9.0, 8.0, 8.0, 9.0, 6.0, 8.0, 10.0, 6.0, 8.0, 9.0, 8.0, 7.0, 6.0, 9.0, 8.0, 7.0, 6.0, 6.0, 7.0, 11.0, 6.0, 10.0, 9.0, 5.0, 5.0, 7.0, 9.0, 8.0, 6.0, 7.0, 8.0, 9.0, 6.0, 7.0, 6.0, 9.0, 13.0, 5.0, 8.0, 9.0, 7.0, 4.0, 12.0, 8.0, 6.0, 7.0, 10.0, 7.0, 8.0, 7.0, 11.0, 9.0, 6.0, 6.0, 5.0, 7.0, 8.0, 8.0, 8.0, 9.0, 10.0, 10.0, 9.0, 7.0, 8.0, 11.0, 8.0, 7.0, 12.0, 8.0, 8.0, 8.0, 7.0, 5.0, 7.0, 8.0, 8.0, 10.0, 12.0, 10.0, 6.0, 8.0, 12.0, 8.0, 9.0, 9.0, 9.0, 8.0, 6.0, 6.0, 6.0, 8.0, 13.0, 9.0, 7.0, 7.0, 8.0, 8.0, 9.0, 8.0, 8.0, 7.0], \"legendgroup\": \"\", \"name\": \"\", \"showlegend\": true, \"type\": \"pie\"}],\n",
              "                        {\"legend\": {\"tracegroupgap\": 0}, \"template\": {\"data\": {\"bar\": [{\"error_x\": {\"color\": \"#2a3f5f\"}, \"error_y\": {\"color\": \"#2a3f5f\"}, \"marker\": {\"line\": {\"color\": \"#E5ECF6\", \"width\": 0.5}}, \"type\": \"bar\"}], \"barpolar\": [{\"marker\": {\"line\": {\"color\": \"#E5ECF6\", \"width\": 0.5}}, \"type\": \"barpolar\"}], \"carpet\": [{\"aaxis\": {\"endlinecolor\": \"#2a3f5f\", \"gridcolor\": \"white\", \"linecolor\": \"white\", \"minorgridcolor\": \"white\", \"startlinecolor\": \"#2a3f5f\"}, \"baxis\": {\"endlinecolor\": \"#2a3f5f\", \"gridcolor\": \"white\", \"linecolor\": \"white\", \"minorgridcolor\": \"white\", \"startlinecolor\": \"#2a3f5f\"}, \"type\": \"carpet\"}], \"choropleth\": [{\"colorbar\": {\"outlinewidth\": 0, \"ticks\": \"\"}, \"type\": \"choropleth\"}], \"contour\": [{\"colorbar\": {\"outlinewidth\": 0, \"ticks\": \"\"}, \"colorscale\": [[0.0, \"#0d0887\"], [0.1111111111111111, \"#46039f\"], [0.2222222222222222, \"#7201a8\"], [0.3333333333333333, \"#9c179e\"], [0.4444444444444444, \"#bd3786\"], [0.5555555555555556, \"#d8576b\"], [0.6666666666666666, \"#ed7953\"], [0.7777777777777778, \"#fb9f3a\"], [0.8888888888888888, \"#fdca26\"], [1.0, \"#f0f921\"]], \"type\": \"contour\"}], \"contourcarpet\": [{\"colorbar\": {\"outlinewidth\": 0, \"ticks\": \"\"}, \"type\": \"contourcarpet\"}], \"heatmap\": [{\"colorbar\": {\"outlinewidth\": 0, \"ticks\": \"\"}, \"colorscale\": [[0.0, \"#0d0887\"], [0.1111111111111111, \"#46039f\"], [0.2222222222222222, \"#7201a8\"], [0.3333333333333333, \"#9c179e\"], [0.4444444444444444, \"#bd3786\"], [0.5555555555555556, \"#d8576b\"], [0.6666666666666666, \"#ed7953\"], [0.7777777777777778, \"#fb9f3a\"], [0.8888888888888888, \"#fdca26\"], [1.0, \"#f0f921\"]], \"type\": \"heatmap\"}], \"heatmapgl\": [{\"colorbar\": {\"outlinewidth\": 0, \"ticks\": \"\"}, \"colorscale\": [[0.0, \"#0d0887\"], [0.1111111111111111, \"#46039f\"], [0.2222222222222222, \"#7201a8\"], [0.3333333333333333, \"#9c179e\"], [0.4444444444444444, \"#bd3786\"], [0.5555555555555556, \"#d8576b\"], [0.6666666666666666, \"#ed7953\"], [0.7777777777777778, \"#fb9f3a\"], [0.8888888888888888, \"#fdca26\"], [1.0, \"#f0f921\"]], \"type\": \"heatmapgl\"}], \"histogram\": [{\"marker\": {\"colorbar\": {\"outlinewidth\": 0, \"ticks\": \"\"}}, \"type\": \"histogram\"}], \"histogram2d\": [{\"colorbar\": {\"outlinewidth\": 0, \"ticks\": \"\"}, \"colorscale\": [[0.0, \"#0d0887\"], [0.1111111111111111, \"#46039f\"], [0.2222222222222222, \"#7201a8\"], [0.3333333333333333, \"#9c179e\"], [0.4444444444444444, \"#bd3786\"], [0.5555555555555556, \"#d8576b\"], [0.6666666666666666, \"#ed7953\"], [0.7777777777777778, \"#fb9f3a\"], [0.8888888888888888, \"#fdca26\"], [1.0, \"#f0f921\"]], \"type\": \"histogram2d\"}], \"histogram2dcontour\": [{\"colorbar\": {\"outlinewidth\": 0, \"ticks\": \"\"}, \"colorscale\": [[0.0, \"#0d0887\"], [0.1111111111111111, \"#46039f\"], [0.2222222222222222, \"#7201a8\"], [0.3333333333333333, \"#9c179e\"], [0.4444444444444444, \"#bd3786\"], [0.5555555555555556, \"#d8576b\"], [0.6666666666666666, \"#ed7953\"], [0.7777777777777778, \"#fb9f3a\"], [0.8888888888888888, \"#fdca26\"], [1.0, \"#f0f921\"]], \"type\": \"histogram2dcontour\"}], \"mesh3d\": [{\"colorbar\": {\"outlinewidth\": 0, \"ticks\": \"\"}, \"type\": \"mesh3d\"}], \"parcoords\": [{\"line\": {\"colorbar\": {\"outlinewidth\": 0, \"ticks\": \"\"}}, \"type\": \"parcoords\"}], \"pie\": [{\"automargin\": true, \"type\": \"pie\"}], \"scatter\": [{\"marker\": {\"colorbar\": {\"outlinewidth\": 0, \"ticks\": \"\"}}, \"type\": \"scatter\"}], \"scatter3d\": [{\"line\": {\"colorbar\": {\"outlinewidth\": 0, \"ticks\": \"\"}}, \"marker\": {\"colorbar\": {\"outlinewidth\": 0, \"ticks\": \"\"}}, \"type\": \"scatter3d\"}], \"scattercarpet\": [{\"marker\": {\"colorbar\": {\"outlinewidth\": 0, \"ticks\": \"\"}}, \"type\": \"scattercarpet\"}], \"scattergeo\": [{\"marker\": {\"colorbar\": {\"outlinewidth\": 0, \"ticks\": \"\"}}, \"type\": \"scattergeo\"}], \"scattergl\": [{\"marker\": {\"colorbar\": {\"outlinewidth\": 0, \"ticks\": \"\"}}, \"type\": \"scattergl\"}], \"scattermapbox\": [{\"marker\": {\"colorbar\": {\"outlinewidth\": 0, \"ticks\": \"\"}}, \"type\": \"scattermapbox\"}], \"scatterpolar\": [{\"marker\": {\"colorbar\": {\"outlinewidth\": 0, \"ticks\": \"\"}}, \"type\": \"scatterpolar\"}], \"scatterpolargl\": [{\"marker\": {\"colorbar\": {\"outlinewidth\": 0, \"ticks\": \"\"}}, \"type\": \"scatterpolargl\"}], \"scatterternary\": [{\"marker\": {\"colorbar\": {\"outlinewidth\": 0, \"ticks\": \"\"}}, \"type\": \"scatterternary\"}], \"surface\": [{\"colorbar\": {\"outlinewidth\": 0, \"ticks\": \"\"}, \"colorscale\": [[0.0, \"#0d0887\"], [0.1111111111111111, \"#46039f\"], [0.2222222222222222, \"#7201a8\"], [0.3333333333333333, \"#9c179e\"], [0.4444444444444444, \"#bd3786\"], [0.5555555555555556, \"#d8576b\"], [0.6666666666666666, \"#ed7953\"], [0.7777777777777778, \"#fb9f3a\"], [0.8888888888888888, \"#fdca26\"], [1.0, \"#f0f921\"]], \"type\": \"surface\"}], \"table\": [{\"cells\": {\"fill\": {\"color\": \"#EBF0F8\"}, \"line\": {\"color\": \"white\"}}, \"header\": {\"fill\": {\"color\": \"#C8D4E3\"}, \"line\": {\"color\": \"white\"}}, \"type\": \"table\"}]}, \"layout\": {\"annotationdefaults\": {\"arrowcolor\": \"#2a3f5f\", \"arrowhead\": 0, \"arrowwidth\": 1}, \"coloraxis\": {\"colorbar\": {\"outlinewidth\": 0, \"ticks\": \"\"}}, \"colorscale\": {\"diverging\": [[0, \"#8e0152\"], [0.1, \"#c51b7d\"], [0.2, \"#de77ae\"], [0.3, \"#f1b6da\"], [0.4, \"#fde0ef\"], [0.5, \"#f7f7f7\"], [0.6, \"#e6f5d0\"], [0.7, \"#b8e186\"], [0.8, \"#7fbc41\"], [0.9, \"#4d9221\"], [1, \"#276419\"]], \"sequential\": [[0.0, \"#0d0887\"], [0.1111111111111111, \"#46039f\"], [0.2222222222222222, \"#7201a8\"], [0.3333333333333333, \"#9c179e\"], [0.4444444444444444, \"#bd3786\"], [0.5555555555555556, \"#d8576b\"], [0.6666666666666666, \"#ed7953\"], [0.7777777777777778, \"#fb9f3a\"], [0.8888888888888888, \"#fdca26\"], [1.0, \"#f0f921\"]], \"sequentialminus\": [[0.0, \"#0d0887\"], [0.1111111111111111, \"#46039f\"], [0.2222222222222222, \"#7201a8\"], [0.3333333333333333, \"#9c179e\"], [0.4444444444444444, \"#bd3786\"], [0.5555555555555556, \"#d8576b\"], [0.6666666666666666, \"#ed7953\"], [0.7777777777777778, \"#fb9f3a\"], [0.8888888888888888, \"#fdca26\"], [1.0, \"#f0f921\"]]}, \"colorway\": [\"#636efa\", \"#EF553B\", \"#00cc96\", \"#ab63fa\", \"#FFA15A\", \"#19d3f3\", \"#FF6692\", \"#B6E880\", \"#FF97FF\", \"#FECB52\"], \"font\": {\"color\": \"#2a3f5f\"}, \"geo\": {\"bgcolor\": \"white\", \"lakecolor\": \"white\", \"landcolor\": \"#E5ECF6\", \"showlakes\": true, \"showland\": true, \"subunitcolor\": \"white\"}, \"hoverlabel\": {\"align\": \"left\"}, \"hovermode\": \"closest\", \"mapbox\": {\"style\": \"light\"}, \"paper_bgcolor\": \"white\", \"plot_bgcolor\": \"#E5ECF6\", \"polar\": {\"angularaxis\": {\"gridcolor\": \"white\", \"linecolor\": \"white\", \"ticks\": \"\"}, \"bgcolor\": \"#E5ECF6\", \"radialaxis\": {\"gridcolor\": \"white\", \"linecolor\": \"white\", \"ticks\": \"\"}}, \"scene\": {\"xaxis\": {\"backgroundcolor\": \"#E5ECF6\", \"gridcolor\": \"white\", \"gridwidth\": 2, \"linecolor\": \"white\", \"showbackground\": true, \"ticks\": \"\", \"zerolinecolor\": \"white\"}, \"yaxis\": {\"backgroundcolor\": \"#E5ECF6\", \"gridcolor\": \"white\", \"gridwidth\": 2, \"linecolor\": \"white\", \"showbackground\": true, \"ticks\": \"\", \"zerolinecolor\": \"white\"}, \"zaxis\": {\"backgroundcolor\": \"#E5ECF6\", \"gridcolor\": \"white\", \"gridwidth\": 2, \"linecolor\": \"white\", \"showbackground\": true, \"ticks\": \"\", \"zerolinecolor\": \"white\"}}, \"shapedefaults\": {\"line\": {\"color\": \"#2a3f5f\"}}, \"ternary\": {\"aaxis\": {\"gridcolor\": \"white\", \"linecolor\": \"white\", \"ticks\": \"\"}, \"baxis\": {\"gridcolor\": \"white\", \"linecolor\": \"white\", \"ticks\": \"\"}, \"bgcolor\": \"#E5ECF6\", \"caxis\": {\"gridcolor\": \"white\", \"linecolor\": \"white\", \"ticks\": \"\"}}, \"title\": {\"x\": 0.05}, \"xaxis\": {\"automargin\": true, \"gridcolor\": \"white\", \"linecolor\": \"white\", \"ticks\": \"\", \"title\": {\"standoff\": 15}, \"zerolinecolor\": \"white\", \"zerolinewidth\": 2}, \"yaxis\": {\"automargin\": true, \"gridcolor\": \"white\", \"linecolor\": \"white\", \"ticks\": \"\", \"title\": {\"standoff\": 15}, \"zerolinecolor\": \"white\", \"zerolinewidth\": 2}}}, \"title\": {\"text\": \"Hours Spent on Sleep During Lockdown\"}},\n",
              "                        {\"responsive\": true}\n",
              "                    ).then(function(){\n",
              "                            \n",
              "var gd = document.getElementById('2f374216-05b5-4e1c-94c3-b00e86eb1ac1');\n",
              "var x = new MutationObserver(function (mutations, observer) {{\n",
              "        var display = window.getComputedStyle(gd).display;\n",
              "        if (!display || display === 'none') {{\n",
              "            console.log([gd, 'removed!']);\n",
              "            Plotly.purge(gd);\n",
              "            observer.disconnect();\n",
              "        }}\n",
              "}});\n",
              "\n",
              "// Listen for the removal of the full notebook cells\n",
              "var notebookContainer = gd.closest('#notebook-container');\n",
              "if (notebookContainer) {{\n",
              "    x.observe(notebookContainer, {childList: true});\n",
              "}}\n",
              "\n",
              "// Listen for the clearing of the current output cell\n",
              "var outputEl = gd.closest('.output');\n",
              "if (outputEl) {{\n",
              "    x.observe(outputEl, {childList: true});\n",
              "}}\n",
              "\n",
              "                        })\n",
              "                };\n",
              "                \n",
              "            </script>\n",
              "        </div>\n",
              "</body>\n",
              "</html>"
            ]
          },
          "metadata": {
            "tags": []
          }
        }
      ]
    },
    {
      "cell_type": "code",
      "metadata": {
        "colab": {
          "base_uri": "https://localhost:8080/",
          "height": 295
        },
        "id": "ybUMHR7aTWp_",
        "outputId": "65ab96a7-f454-4539-8321-dfcf7fe04121"
      },
      "source": [
        "plt.hist(dataframe['Time spent on Online Class'], color='#A87FD7')\n",
        "plt.ylabel('Number of Participants')\n",
        "plt.xlabel('Time spent on Online Class')\n",
        "plt.title('Distribution of Participants by Time spent on Online Class during Covid lockdown')\n",
        "plt.show()"
      ],
      "execution_count": null,
      "outputs": [
        {
          "output_type": "display_data",
          "data": {
            "image/png": "[encoded data removed]",
            "text/plain": [
              "<Figure size 432x288 with 1 Axes>"
            ]
          },
          "metadata": {
            "tags": [],
            "needs_background": "light"
          }
        }
      ]
    }
  ]
}